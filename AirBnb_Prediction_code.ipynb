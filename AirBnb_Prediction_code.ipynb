{
  "cells": [
    {
      "cell_type": "code",
      "execution_count": null,
      "metadata": {
        "collapsed": true,
        "id": "IRzgbfmvMLjA",
        "jupyter": {
          "outputs_hidden": true
        },
        "tags": [],
        "outputId": "18cd99f0-3f81-4749-bc47-28d6974fc344"
      },
      "outputs": [
        {
          "name": "stdout",
          "output_type": "stream",
          "text": [
            "Requirement already satisfied: altair in c:\\users\\sagar\\anaconda3\\lib\\site-packages (4.2.0)\n",
            "Requirement already satisfied: vega_datasets in c:\\users\\sagar\\anaconda3\\lib\\site-packages (0.9.0)\n",
            "Requirement already satisfied: entrypoints in c:\\users\\sagar\\anaconda3\\lib\\site-packages (from altair) (0.3)\n",
            "Requirement already satisfied: jinja2 in c:\\users\\sagar\\anaconda3\\lib\\site-packages (from altair) (2.11.3)\n",
            "Requirement already satisfied: jsonschema>=3.0 in c:\\users\\sagar\\anaconda3\\lib\\site-packages (from altair) (3.2.0)\n",
            "Requirement already satisfied: toolz in c:\\users\\sagar\\anaconda3\\lib\\site-packages (from altair) (0.11.1)\n",
            "Requirement already satisfied: pandas>=0.18 in c:\\users\\sagar\\anaconda3\\lib\\site-packages (from altair) (1.3.4)\n",
            "Requirement already satisfied: numpy in c:\\users\\sagar\\anaconda3\\lib\\site-packages (from altair) (1.20.3)\n",
            "Requirement already satisfied: setuptools in c:\\users\\sagar\\anaconda3\\lib\\site-packages (from jsonschema>=3.0->altair) (58.0.4)\n",
            "Requirement already satisfied: pyrsistent>=0.14.0 in c:\\users\\sagar\\anaconda3\\lib\\site-packages (from jsonschema>=3.0->altair) (0.18.0)\n",
            "Requirement already satisfied: attrs>=17.4.0 in c:\\users\\sagar\\anaconda3\\lib\\site-packages (from jsonschema>=3.0->altair) (21.2.0)\n",
            "Requirement already satisfied: six>=1.11.0 in c:\\users\\sagar\\anaconda3\\lib\\site-packages (from jsonschema>=3.0->altair) (1.16.0)\n",
            "Requirement already satisfied: pytz>=2017.3 in c:\\users\\sagar\\anaconda3\\lib\\site-packages (from pandas>=0.18->altair) (2021.3)\n",
            "Requirement already satisfied: python-dateutil>=2.7.3 in c:\\users\\sagar\\anaconda3\\lib\\site-packages (from pandas>=0.18->altair) (2.8.2)\n",
            "Requirement already satisfied: MarkupSafe>=0.23 in c:\\users\\sagar\\anaconda3\\lib\\site-packages (from jinja2->altair) (2.0.1)\n",
            "Requirement already satisfied: pandas-profiling in c:\\users\\sagar\\anaconda3\\lib\\site-packages (3.1.0)\n",
            "Requirement already satisfied: matplotlib>=3.2.0 in c:\\users\\sagar\\anaconda3\\lib\\site-packages (from pandas-profiling) (3.4.3)\n",
            "Requirement already satisfied: PyYAML>=5.0.0 in c:\\users\\sagar\\anaconda3\\lib\\site-packages (from pandas-profiling) (6.0)\n",
            "Requirement already satisfied: htmlmin>=0.1.12 in c:\\users\\sagar\\anaconda3\\lib\\site-packages (from pandas-profiling) (0.1.12)\n",
            "Requirement already satisfied: jinja2>=2.11.1 in c:\\users\\sagar\\anaconda3\\lib\\site-packages (from pandas-profiling) (2.11.3)\n",
            "Requirement already satisfied: numpy>=1.16.0 in c:\\users\\sagar\\anaconda3\\lib\\site-packages (from pandas-profiling) (1.20.3)\n",
            "Requirement already satisfied: multimethod>=1.4 in c:\\users\\sagar\\anaconda3\\lib\\site-packages (from pandas-profiling) (1.8)\n",
            "Requirement already satisfied: pydantic>=1.8.1 in c:\\users\\sagar\\anaconda3\\lib\\site-packages (from pandas-profiling) (1.9.0)\n",
            "Requirement already satisfied: tangled-up-in-unicode==0.1.0 in c:\\users\\sagar\\anaconda3\\lib\\site-packages (from pandas-profiling) (0.1.0)\n",
            "Requirement already satisfied: seaborn>=0.10.1 in c:\\users\\sagar\\anaconda3\\lib\\site-packages (from pandas-profiling) (0.11.2)\n",
            "Requirement already satisfied: joblib~=1.0.1 in c:\\users\\sagar\\anaconda3\\lib\\site-packages (from pandas-profiling) (1.0.1)\n",
            "Requirement already satisfied: pandas!=1.0.0,!=1.0.1,!=1.0.2,!=1.1.0,>=0.25.3 in c:\\users\\sagar\\anaconda3\\lib\\site-packages (from pandas-profiling) (1.3.4)\n",
            "Requirement already satisfied: scipy>=1.4.1 in c:\\users\\sagar\\anaconda3\\lib\\site-packages (from pandas-profiling) (1.7.1)\n",
            "Requirement already satisfied: visions[type_image_path]==0.7.4 in c:\\users\\sagar\\anaconda3\\lib\\site-packages (from pandas-profiling) (0.7.4)\n",
            "Requirement already satisfied: tqdm>=4.48.2 in c:\\users\\sagar\\anaconda3\\lib\\site-packages (from pandas-profiling) (4.62.3)\n",
            "Requirement already satisfied: missingno>=0.4.2 in c:\\users\\sagar\\anaconda3\\lib\\site-packages (from pandas-profiling) (0.5.1)\n",
            "Requirement already satisfied: phik>=0.11.1 in c:\\users\\sagar\\anaconda3\\lib\\site-packages (from pandas-profiling) (0.12.2)\n",
            "Requirement already satisfied: requests>=2.24.0 in c:\\users\\sagar\\anaconda3\\lib\\site-packages (from pandas-profiling) (2.26.0)\n",
            "Requirement already satisfied: markupsafe~=2.0.1 in c:\\users\\sagar\\anaconda3\\lib\\site-packages (from pandas-profiling) (2.0.1)\n",
            "Requirement already satisfied: attrs>=19.3.0 in c:\\users\\sagar\\anaconda3\\lib\\site-packages (from visions[type_image_path]==0.7.4->pandas-profiling) (21.2.0)\n",
            "Requirement already satisfied: networkx>=2.4 in c:\\users\\sagar\\anaconda3\\lib\\site-packages (from visions[type_image_path]==0.7.4->pandas-profiling) (2.6.3)\n",
            "Requirement already satisfied: imagehash in c:\\users\\sagar\\anaconda3\\lib\\site-packages (from visions[type_image_path]==0.7.4->pandas-profiling) (4.2.1)\n",
            "Requirement already satisfied: Pillow in c:\\users\\sagar\\anaconda3\\lib\\site-packages (from visions[type_image_path]==0.7.4->pandas-profiling) (8.4.0)\n",
            "Requirement already satisfied: kiwisolver>=1.0.1 in c:\\users\\sagar\\anaconda3\\lib\\site-packages (from matplotlib>=3.2.0->pandas-profiling) (1.3.1)\n",
            "Requirement already satisfied: pyparsing>=2.2.1 in c:\\users\\sagar\\anaconda3\\lib\\site-packages (from matplotlib>=3.2.0->pandas-profiling) (3.0.4)\n",
            "Requirement already satisfied: python-dateutil>=2.7 in c:\\users\\sagar\\anaconda3\\lib\\site-packages (from matplotlib>=3.2.0->pandas-profiling) (2.8.2)\n",
            "Requirement already satisfied: cycler>=0.10 in c:\\users\\sagar\\anaconda3\\lib\\site-packages (from matplotlib>=3.2.0->pandas-profiling) (0.10.0)\n",
            "Requirement already satisfied: six in c:\\users\\sagar\\anaconda3\\lib\\site-packages (from cycler>=0.10->matplotlib>=3.2.0->pandas-profiling) (1.16.0)\n",
            "Requirement already satisfied: pytz>=2017.3 in c:\\users\\sagar\\anaconda3\\lib\\site-packages (from pandas!=1.0.0,!=1.0.1,!=1.0.2,!=1.1.0,>=0.25.3->pandas-profiling) (2021.3)\n",
            "Requirement already satisfied: typing-extensions>=3.7.4.3 in c:\\users\\sagar\\anaconda3\\lib\\site-packages (from pydantic>=1.8.1->pandas-profiling) (3.10.0.2)\n",
            "Requirement already satisfied: certifi>=2017.4.17 in c:\\users\\sagar\\anaconda3\\lib\\site-packages (from requests>=2.24.0->pandas-profiling) (2021.10.8)\n",
            "Requirement already satisfied: charset-normalizer~=2.0.0 in c:\\users\\sagar\\anaconda3\\lib\\site-packages (from requests>=2.24.0->pandas-profiling) (2.0.4)\n",
            "Requirement already satisfied: urllib3<1.27,>=1.21.1 in c:\\users\\sagar\\anaconda3\\lib\\site-packages (from requests>=2.24.0->pandas-profiling) (1.26.7)\n",
            "Requirement already satisfied: idna<4,>=2.5 in c:\\users\\sagar\\anaconda3\\lib\\site-packages (from requests>=2.24.0->pandas-profiling) (3.2)\n",
            "Requirement already satisfied: colorama in c:\\users\\sagar\\anaconda3\\lib\\site-packages (from tqdm>=4.48.2->pandas-profiling) (0.4.4)\n",
            "Requirement already satisfied: PyWavelets in c:\\users\\sagar\\anaconda3\\lib\\site-packages (from imagehash->visions[type_image_path]==0.7.4->pandas-profiling) (1.1.1)\n",
            "Requirement already satisfied: ipython-autotime in c:\\users\\sagar\\anaconda3\\lib\\site-packages (0.3.1)\n",
            "Requirement already satisfied: ipython in c:\\users\\sagar\\anaconda3\\lib\\site-packages (from ipython-autotime) (7.29.0)\n",
            "Requirement already satisfied: pygments in c:\\users\\sagar\\anaconda3\\lib\\site-packages (from ipython->ipython-autotime) (2.10.0)\n",
            "Requirement already satisfied: prompt-toolkit!=3.0.0,!=3.0.1,<3.1.0,>=2.0.0 in c:\\users\\sagar\\anaconda3\\lib\\site-packages (from ipython->ipython-autotime) (3.0.20)\n",
            "Requirement already satisfied: jedi>=0.16 in c:\\users\\sagar\\anaconda3\\lib\\site-packages (from ipython->ipython-autotime) (0.18.0)\n",
            "Requirement already satisfied: backcall in c:\\users\\sagar\\anaconda3\\lib\\site-packages (from ipython->ipython-autotime) (0.2.0)\n",
            "Requirement already satisfied: matplotlib-inline in c:\\users\\sagar\\anaconda3\\lib\\site-packages (from ipython->ipython-autotime) (0.1.2)\n",
            "Requirement already satisfied: setuptools>=18.5 in c:\\users\\sagar\\anaconda3\\lib\\site-packages (from ipython->ipython-autotime) (58.0.4)\n",
            "Requirement already satisfied: decorator in c:\\users\\sagar\\anaconda3\\lib\\site-packages (from ipython->ipython-autotime) (5.1.0)\n",
            "Requirement already satisfied: pickleshare in c:\\users\\sagar\\anaconda3\\lib\\site-packages (from ipython->ipython-autotime) (0.7.5)\n",
            "Requirement already satisfied: traitlets>=4.2 in c:\\users\\sagar\\anaconda3\\lib\\site-packages (from ipython->ipython-autotime) (5.1.0)\n",
            "Requirement already satisfied: colorama in c:\\users\\sagar\\anaconda3\\lib\\site-packages (from ipython->ipython-autotime) (0.4.4)\n",
            "Requirement already satisfied: parso<0.9.0,>=0.8.0 in c:\\users\\sagar\\anaconda3\\lib\\site-packages (from jedi>=0.16->ipython->ipython-autotime) (0.8.2)\n",
            "Requirement already satisfied: wcwidth in c:\\users\\sagar\\anaconda3\\lib\\site-packages (from prompt-toolkit!=3.0.0,!=3.0.1,<3.1.0,>=2.0.0->ipython->ipython-autotime) (0.2.5)\n",
            "Requirement already satisfied: ipywidgets in c:\\users\\sagar\\anaconda3\\lib\\site-packages (7.6.5)\n",
            "Requirement already satisfied: widgetsnbextension~=3.5.0 in c:\\users\\sagar\\anaconda3\\lib\\site-packages (from ipywidgets) (3.5.1)\n",
            "Requirement already satisfied: ipython-genutils~=0.2.0 in c:\\users\\sagar\\anaconda3\\lib\\site-packages (from ipywidgets) (0.2.0)\n",
            "Requirement already satisfied: jupyterlab-widgets>=1.0.0 in c:\\users\\sagar\\anaconda3\\lib\\site-packages (from ipywidgets) (1.0.0)\n",
            "Requirement already satisfied: ipython>=4.0.0 in c:\\users\\sagar\\anaconda3\\lib\\site-packages (from ipywidgets) (7.29.0)\n",
            "Requirement already satisfied: traitlets>=4.3.1 in c:\\users\\sagar\\anaconda3\\lib\\site-packages (from ipywidgets) (5.1.0)\n",
            "Requirement already satisfied: nbformat>=4.2.0 in c:\\users\\sagar\\anaconda3\\lib\\site-packages (from ipywidgets) (5.1.3)\n",
            "Requirement already satisfied: ipykernel>=4.5.1 in c:\\users\\sagar\\anaconda3\\lib\\site-packages (from ipywidgets) (6.4.1)\n",
            "Requirement already satisfied: debugpy<2.0,>=1.0.0 in c:\\users\\sagar\\anaconda3\\lib\\site-packages (from ipykernel>=4.5.1->ipywidgets) (1.4.1)\n",
            "Requirement already satisfied: tornado<7.0,>=4.2 in c:\\users\\sagar\\anaconda3\\lib\\site-packages (from ipykernel>=4.5.1->ipywidgets) (6.1)\n",
            "Requirement already satisfied: jupyter-client<8.0 in c:\\users\\sagar\\anaconda3\\lib\\site-packages (from ipykernel>=4.5.1->ipywidgets) (6.1.12)\n",
            "Requirement already satisfied: matplotlib-inline<0.2.0,>=0.1.0 in c:\\users\\sagar\\anaconda3\\lib\\site-packages (from ipykernel>=4.5.1->ipywidgets) (0.1.2)\n",
            "Requirement already satisfied: setuptools>=18.5 in c:\\users\\sagar\\anaconda3\\lib\\site-packages (from ipython>=4.0.0->ipywidgets) (58.0.4)\n",
            "Requirement already satisfied: jedi>=0.16 in c:\\users\\sagar\\anaconda3\\lib\\site-packages (from ipython>=4.0.0->ipywidgets) (0.18.0)\n",
            "Requirement already satisfied: backcall in c:\\users\\sagar\\anaconda3\\lib\\site-packages (from ipython>=4.0.0->ipywidgets) (0.2.0)\n",
            "Requirement already satisfied: prompt-toolkit!=3.0.0,!=3.0.1,<3.1.0,>=2.0.0 in c:\\users\\sagar\\anaconda3\\lib\\site-packages (from ipython>=4.0.0->ipywidgets) (3.0.20)\n",
            "Requirement already satisfied: decorator in c:\\users\\sagar\\anaconda3\\lib\\site-packages (from ipython>=4.0.0->ipywidgets) (5.1.0)\n",
            "Requirement already satisfied: pygments in c:\\users\\sagar\\anaconda3\\lib\\site-packages (from ipython>=4.0.0->ipywidgets) (2.10.0)\n",
            "Requirement already satisfied: colorama in c:\\users\\sagar\\anaconda3\\lib\\site-packages (from ipython>=4.0.0->ipywidgets) (0.4.4)\n",
            "Requirement already satisfied: pickleshare in c:\\users\\sagar\\anaconda3\\lib\\site-packages (from ipython>=4.0.0->ipywidgets) (0.7.5)\n",
            "Requirement already satisfied: parso<0.9.0,>=0.8.0 in c:\\users\\sagar\\anaconda3\\lib\\site-packages (from jedi>=0.16->ipython>=4.0.0->ipywidgets) (0.8.2)\n",
            "Requirement already satisfied: python-dateutil>=2.1 in c:\\users\\sagar\\anaconda3\\lib\\site-packages (from jupyter-client<8.0->ipykernel>=4.5.1->ipywidgets) (2.8.2)\n",
            "Requirement already satisfied: pyzmq>=13 in c:\\users\\sagar\\anaconda3\\lib\\site-packages (from jupyter-client<8.0->ipykernel>=4.5.1->ipywidgets) (22.2.1)\n",
            "Requirement already satisfied: jupyter-core>=4.6.0 in c:\\users\\sagar\\anaconda3\\lib\\site-packages (from jupyter-client<8.0->ipykernel>=4.5.1->ipywidgets) (4.8.1)\n",
            "Requirement already satisfied: pywin32>=1.0 in c:\\users\\sagar\\anaconda3\\lib\\site-packages (from jupyter-core>=4.6.0->jupyter-client<8.0->ipykernel>=4.5.1->ipywidgets) (228)\n",
            "Requirement already satisfied: jsonschema!=2.5.0,>=2.4 in c:\\users\\sagar\\anaconda3\\lib\\site-packages (from nbformat>=4.2.0->ipywidgets) (3.2.0)\n",
            "Requirement already satisfied: pyrsistent>=0.14.0 in c:\\users\\sagar\\anaconda3\\lib\\site-packages (from jsonschema!=2.5.0,>=2.4->nbformat>=4.2.0->ipywidgets) (0.18.0)\n",
            "Requirement already satisfied: attrs>=17.4.0 in c:\\users\\sagar\\anaconda3\\lib\\site-packages (from jsonschema!=2.5.0,>=2.4->nbformat>=4.2.0->ipywidgets) (21.2.0)\n",
            "Requirement already satisfied: six>=1.11.0 in c:\\users\\sagar\\anaconda3\\lib\\site-packages (from jsonschema!=2.5.0,>=2.4->nbformat>=4.2.0->ipywidgets) (1.16.0)\n",
            "Requirement already satisfied: wcwidth in c:\\users\\sagar\\anaconda3\\lib\\site-packages (from prompt-toolkit!=3.0.0,!=3.0.1,<3.1.0,>=2.0.0->ipython>=4.0.0->ipywidgets) (0.2.5)\n",
            "Requirement already satisfied: notebook>=4.4.1 in c:\\users\\sagar\\anaconda3\\lib\\site-packages (from widgetsnbextension~=3.5.0->ipywidgets) (6.4.5)\n",
            "Requirement already satisfied: terminado>=0.8.3 in c:\\users\\sagar\\anaconda3\\lib\\site-packages (from notebook>=4.4.1->widgetsnbextension~=3.5.0->ipywidgets) (0.9.4)\n",
            "Requirement already satisfied: argon2-cffi in c:\\users\\sagar\\anaconda3\\lib\\site-packages (from notebook>=4.4.1->widgetsnbextension~=3.5.0->ipywidgets) (20.1.0)\n",
            "Requirement already satisfied: prometheus-client in c:\\users\\sagar\\anaconda3\\lib\\site-packages (from notebook>=4.4.1->widgetsnbextension~=3.5.0->ipywidgets) (0.11.0)\n",
            "Requirement already satisfied: nbconvert in c:\\users\\sagar\\anaconda3\\lib\\site-packages (from notebook>=4.4.1->widgetsnbextension~=3.5.0->ipywidgets) (6.1.0)\n",
            "Requirement already satisfied: Send2Trash>=1.5.0 in c:\\users\\sagar\\anaconda3\\lib\\site-packages (from notebook>=4.4.1->widgetsnbextension~=3.5.0->ipywidgets) (1.8.0)\n",
            "Requirement already satisfied: jinja2 in c:\\users\\sagar\\anaconda3\\lib\\site-packages (from notebook>=4.4.1->widgetsnbextension~=3.5.0->ipywidgets) (2.11.3)\n",
            "Requirement already satisfied: pywinpty>=0.5 in c:\\users\\sagar\\anaconda3\\lib\\site-packages (from terminado>=0.8.3->notebook>=4.4.1->widgetsnbextension~=3.5.0->ipywidgets) (0.5.7)\n",
            "Requirement already satisfied: cffi>=1.0.0 in c:\\users\\sagar\\anaconda3\\lib\\site-packages (from argon2-cffi->notebook>=4.4.1->widgetsnbextension~=3.5.0->ipywidgets) (1.14.6)\n",
            "Requirement already satisfied: pycparser in c:\\users\\sagar\\anaconda3\\lib\\site-packages (from cffi>=1.0.0->argon2-cffi->notebook>=4.4.1->widgetsnbextension~=3.5.0->ipywidgets) (2.20)\n",
            "Requirement already satisfied: MarkupSafe>=0.23 in c:\\users\\sagar\\anaconda3\\lib\\site-packages (from jinja2->notebook>=4.4.1->widgetsnbextension~=3.5.0->ipywidgets) (2.0.1)\n",
            "Requirement already satisfied: mistune<2,>=0.8.1 in c:\\users\\sagar\\anaconda3\\lib\\site-packages (from nbconvert->notebook>=4.4.1->widgetsnbextension~=3.5.0->ipywidgets) (0.8.4)\n",
            "Requirement already satisfied: bleach in c:\\users\\sagar\\anaconda3\\lib\\site-packages (from nbconvert->notebook>=4.4.1->widgetsnbextension~=3.5.0->ipywidgets) (4.0.0)\n",
            "Requirement already satisfied: entrypoints>=0.2.2 in c:\\users\\sagar\\anaconda3\\lib\\site-packages (from nbconvert->notebook>=4.4.1->widgetsnbextension~=3.5.0->ipywidgets) (0.3)\n",
            "Requirement already satisfied: jupyterlab-pygments in c:\\users\\sagar\\anaconda3\\lib\\site-packages (from nbconvert->notebook>=4.4.1->widgetsnbextension~=3.5.0->ipywidgets) (0.1.2)\n",
            "Requirement already satisfied: testpath in c:\\users\\sagar\\anaconda3\\lib\\site-packages (from nbconvert->notebook>=4.4.1->widgetsnbextension~=3.5.0->ipywidgets) (0.5.0)\n",
            "Requirement already satisfied: pandocfilters>=1.4.1 in c:\\users\\sagar\\anaconda3\\lib\\site-packages (from nbconvert->notebook>=4.4.1->widgetsnbextension~=3.5.0->ipywidgets) (1.4.3)\n",
            "Requirement already satisfied: defusedxml in c:\\users\\sagar\\anaconda3\\lib\\site-packages (from nbconvert->notebook>=4.4.1->widgetsnbextension~=3.5.0->ipywidgets) (0.7.1)\n",
            "Requirement already satisfied: nbclient<0.6.0,>=0.5.0 in c:\\users\\sagar\\anaconda3\\lib\\site-packages (from nbconvert->notebook>=4.4.1->widgetsnbextension~=3.5.0->ipywidgets) (0.5.3)\n",
            "Requirement already satisfied: nest-asyncio in c:\\users\\sagar\\anaconda3\\lib\\site-packages (from nbclient<0.6.0,>=0.5.0->nbconvert->notebook>=4.4.1->widgetsnbextension~=3.5.0->ipywidgets) (1.5.1)\n",
            "Requirement already satisfied: async-generator in c:\\users\\sagar\\anaconda3\\lib\\site-packages (from nbclient<0.6.0,>=0.5.0->nbconvert->notebook>=4.4.1->widgetsnbextension~=3.5.0->ipywidgets) (1.10)\n",
            "Requirement already satisfied: webencodings in c:\\users\\sagar\\anaconda3\\lib\\site-packages (from bleach->nbconvert->notebook>=4.4.1->widgetsnbextension~=3.5.0->ipywidgets) (0.5.1)\n",
            "Requirement already satisfied: packaging in c:\\users\\sagar\\anaconda3\\lib\\site-packages (from bleach->nbconvert->notebook>=4.4.1->widgetsnbextension~=3.5.0->ipywidgets) (21.0)\n",
            "Requirement already satisfied: pyparsing>=2.0.2 in c:\\users\\sagar\\anaconda3\\lib\\site-packages (from packaging->bleach->nbconvert->notebook>=4.4.1->widgetsnbextension~=3.5.0->ipywidgets) (3.0.4)\n",
            "time: 0 ns (started: 2022-05-01 08:47:29 -05:00)\n"
          ]
        }
      ],
      "source": [
        "%matplotlib inline\n",
        "import numpy as np\n",
        "import pandas as pd\n",
        "import os\n",
        "import sys\n",
        "from sklearn.model_selection import train_test_split\n",
        "!{sys.executable} -m pip install altair vega_datasets\n",
        "import altair as alt\n",
        "!pip install pandas-profiling \n",
        "from pandas_profiling import ProfileReport\n",
        "import seaborn as sns\n",
        "import matplotlib.pyplot as plt\n",
        "pd.options.display.min_rows = 115\n",
        "from pandas.plotting import scatter_matrix\n",
        "from ipywidgets import FloatProgress\n",
        "from ipywidgets import IntProgress\n",
        "!pip install ipython-autotime\n",
        "!pip install ipywidgets --user\n",
        "%load_ext autotime"
      ]
    },
    {
      "cell_type": "markdown",
      "source": [
        "Lets read the dataset airbnbNYC_dataset.csv"
      ],
      "metadata": {
        "id": "GurTbD2sVj5a"
      }
    },
    {
      "cell_type": "code",
      "execution_count": null,
      "metadata": {
        "colab": {
          "base_uri": "https://localhost:8080/"
        },
        "id": "hUUF2llZMnpG",
        "outputId": "5c68dcd7-c631-466c-90f8-a8ceb0cbe3fc"
      },
      "outputs": [
        {
          "name": "stdout",
          "output_type": "stream",
          "text": [
            "time: 13.6 s (started: 2022-05-01 08:47:38 -05:00)\n"
          ]
        }
      ],
      "source": [
        " #To read data from dataset \n",
        "data = pd.read_csv('airbnbNYC_dataset.csv',low_memory=False)"
      ]
    },
    {
      "cell_type": "markdown",
      "source": [
        "Now the dataset is loaded , we will view what data is available in the  columns"
      ],
      "metadata": {
        "id": "XudNbDW-Vs76"
      }
    },
    {
      "cell_type": "code",
      "execution_count": null,
      "metadata": {
        "colab": {
          "base_uri": "https://localhost:8080/",
          "height": 768
        },
        "id": "bRcTGgmvMq04",
        "outputId": "c54c480d-2509-4654-c268-68e22aa7c75d",
        "tags": []
      },
      "outputs": [
        {
          "name": "stdout",
          "output_type": "stream",
          "text": [
            "<class 'pandas.core.frame.DataFrame'>\n",
            "RangeIndex: 153254 entries, 0 to 153253\n",
            "Columns: 106 entries, id to reviews_per_month\n",
            "dtypes: float64(21), int64(21), object(64)\n",
            "memory usage: 123.9+ MB\n",
            "time: 32 ms (started: 2022-05-01 08:47:51 -05:00)\n"
          ]
        }
      ],
      "source": [
        "data.info()"
      ]
    },
    {
      "cell_type": "markdown",
      "source": [
        "By viewing the data we can see that some columns are numeric like review per month, beds, calculated_host_listings_count_shared_rooms\tto name a few,\n",
        "Some of them are boolean like instant_bookable,is_business_travel_ready,require_guest_phone_verification to name a few and some of them are text like cancellation_policy, neighborhood_overview,description to name a few.\n",
        "\n",
        "The dataset also has 106 columns and it takes a lot of time to go through all the columns and its data.\n",
        "When your dataset is very large it is better to do operations on your dataframe instead of the column level.\n",
        "\n",
        "The below code is used to find the na values of each column"
      ],
      "metadata": {
        "id": "70FkcCBlVzf2"
      }
    },
    {
      "cell_type": "code",
      "execution_count": null,
      "metadata": {
        "tags": [],
        "id": "t7kAo6OyVimf",
        "outputId": "22fa7640-1d98-4451-bad5-96539a5a9e0c"
      },
      "outputs": [
        {
          "data": {
            "text/html": [
              "<div>\n",
              "<style scoped>\n",
              "    .dataframe tbody tr th:only-of-type {\n",
              "        vertical-align: middle;\n",
              "    }\n",
              "\n",
              "    .dataframe tbody tr th {\n",
              "        vertical-align: top;\n",
              "    }\n",
              "\n",
              "    .dataframe thead th {\n",
              "        text-align: right;\n",
              "    }\n",
              "</style>\n",
              "<table border=\"1\" class=\"dataframe\">\n",
              "  <thead>\n",
              "    <tr style=\"text-align: right;\">\n",
              "      <th></th>\n",
              "      <th>0</th>\n",
              "    </tr>\n",
              "  </thead>\n",
              "  <tbody>\n",
              "    <tr>\n",
              "      <th>xl_picture_url</th>\n",
              "      <td>153254</td>\n",
              "    </tr>\n",
              "    <tr>\n",
              "      <th>medium_url</th>\n",
              "      <td>153254</td>\n",
              "    </tr>\n",
              "    <tr>\n",
              "      <th>thumbnail_url</th>\n",
              "      <td>153254</td>\n",
              "    </tr>\n",
              "    <tr>\n",
              "      <th>jurisdiction_names</th>\n",
              "      <td>153201</td>\n",
              "    </tr>\n",
              "    <tr>\n",
              "      <th>license</th>\n",
              "      <td>153168</td>\n",
              "    </tr>\n",
              "    <tr>\n",
              "      <th>square_feet</th>\n",
              "      <td>152103</td>\n",
              "    </tr>\n",
              "    <tr>\n",
              "      <th>monthly_price</th>\n",
              "      <td>138972</td>\n",
              "    </tr>\n",
              "    <tr>\n",
              "      <th>weekly_price</th>\n",
              "      <td>136803</td>\n",
              "    </tr>\n",
              "    <tr>\n",
              "      <th>notes</th>\n",
              "      <td>91150</td>\n",
              "    </tr>\n",
              "    <tr>\n",
              "      <th>host_acceptance_rate</th>\n",
              "      <td>79370</td>\n",
              "    </tr>\n",
              "    <tr>\n",
              "      <th>access</th>\n",
              "      <td>72049</td>\n",
              "    </tr>\n",
              "    <tr>\n",
              "      <th>interaction</th>\n",
              "      <td>61865</td>\n",
              "    </tr>\n",
              "    <tr>\n",
              "      <th>host_about</th>\n",
              "      <td>61156</td>\n",
              "    </tr>\n",
              "    <tr>\n",
              "      <th>house_rules</th>\n",
              "      <td>59676</td>\n",
              "    </tr>\n",
              "    <tr>\n",
              "      <th>host_response_rate</th>\n",
              "      <td>55439</td>\n",
              "    </tr>\n",
              "    <tr>\n",
              "      <th>host_response_time</th>\n",
              "      <td>55439</td>\n",
              "    </tr>\n",
              "    <tr>\n",
              "      <th>neighborhood_overview</th>\n",
              "      <td>52796</td>\n",
              "    </tr>\n",
              "    <tr>\n",
              "      <th>transit</th>\n",
              "      <td>52735</td>\n",
              "    </tr>\n",
              "    <tr>\n",
              "      <th>security_deposit</th>\n",
              "      <td>52623</td>\n",
              "    </tr>\n",
              "    <tr>\n",
              "      <th>space</th>\n",
              "      <td>42888</td>\n",
              "    </tr>\n",
              "    <tr>\n",
              "      <th>review_scores_value</th>\n",
              "      <td>34032</td>\n",
              "    </tr>\n",
              "    <tr>\n",
              "      <th>review_scores_location</th>\n",
              "      <td>34032</td>\n",
              "    </tr>\n",
              "    <tr>\n",
              "      <th>review_scores_checkin</th>\n",
              "      <td>34023</td>\n",
              "    </tr>\n",
              "    <tr>\n",
              "      <th>review_scores_accuracy</th>\n",
              "      <td>33984</td>\n",
              "    </tr>\n",
              "    <tr>\n",
              "      <th>review_scores_communication</th>\n",
              "      <td>33975</td>\n",
              "    </tr>\n",
              "    <tr>\n",
              "      <th>review_scores_cleanliness</th>\n",
              "      <td>33942</td>\n",
              "    </tr>\n",
              "    <tr>\n",
              "      <th>review_scores_rating</th>\n",
              "      <td>33881</td>\n",
              "    </tr>\n",
              "    <tr>\n",
              "      <th>cleaning_fee</th>\n",
              "      <td>31923</td>\n",
              "    </tr>\n",
              "    <tr>\n",
              "      <th>reviews_per_month</th>\n",
              "      <td>30965</td>\n",
              "    </tr>\n",
              "    <tr>\n",
              "      <th>first_review</th>\n",
              "      <td>30965</td>\n",
              "    </tr>\n",
              "    <tr>\n",
              "      <th>...</th>\n",
              "      <td>...</td>\n",
              "    </tr>\n",
              "    <tr>\n",
              "      <th>scrape_id</th>\n",
              "      <td>0</td>\n",
              "    </tr>\n",
              "    <tr>\n",
              "      <th>last_scraped</th>\n",
              "      <td>0</td>\n",
              "    </tr>\n",
              "    <tr>\n",
              "      <th>experiences_offered</th>\n",
              "      <td>0</td>\n",
              "    </tr>\n",
              "    <tr>\n",
              "      <th>picture_url</th>\n",
              "      <td>0</td>\n",
              "    </tr>\n",
              "    <tr>\n",
              "      <th>host_id</th>\n",
              "      <td>0</td>\n",
              "    </tr>\n",
              "    <tr>\n",
              "      <th>host_url</th>\n",
              "      <td>0</td>\n",
              "    </tr>\n",
              "    <tr>\n",
              "      <th>host_verifications</th>\n",
              "      <td>0</td>\n",
              "    </tr>\n",
              "    <tr>\n",
              "      <th>street</th>\n",
              "      <td>0</td>\n",
              "    </tr>\n",
              "    <tr>\n",
              "      <th>neighbourhood_cleansed</th>\n",
              "      <td>0</td>\n",
              "    </tr>\n",
              "    <tr>\n",
              "      <th>neighbourhood_group_cleansed</th>\n",
              "      <td>0</td>\n",
              "    </tr>\n",
              "    <tr>\n",
              "      <th>smart_location</th>\n",
              "      <td>0</td>\n",
              "    </tr>\n",
              "    <tr>\n",
              "      <th>country_code</th>\n",
              "      <td>0</td>\n",
              "    </tr>\n",
              "    <tr>\n",
              "      <th>country</th>\n",
              "      <td>0</td>\n",
              "    </tr>\n",
              "    <tr>\n",
              "      <th>latitude</th>\n",
              "      <td>0</td>\n",
              "    </tr>\n",
              "    <tr>\n",
              "      <th>longitude</th>\n",
              "      <td>0</td>\n",
              "    </tr>\n",
              "    <tr>\n",
              "      <th>is_location_exact</th>\n",
              "      <td>0</td>\n",
              "    </tr>\n",
              "    <tr>\n",
              "      <th>property_type</th>\n",
              "      <td>0</td>\n",
              "    </tr>\n",
              "    <tr>\n",
              "      <th>room_type</th>\n",
              "      <td>0</td>\n",
              "    </tr>\n",
              "    <tr>\n",
              "      <th>listing_url</th>\n",
              "      <td>0</td>\n",
              "    </tr>\n",
              "    <tr>\n",
              "      <th>bed_type</th>\n",
              "      <td>0</td>\n",
              "    </tr>\n",
              "    <tr>\n",
              "      <th>amenities</th>\n",
              "      <td>0</td>\n",
              "    </tr>\n",
              "    <tr>\n",
              "      <th>price</th>\n",
              "      <td>0</td>\n",
              "    </tr>\n",
              "    <tr>\n",
              "      <th>guests_included</th>\n",
              "      <td>0</td>\n",
              "    </tr>\n",
              "    <tr>\n",
              "      <th>extra_people</th>\n",
              "      <td>0</td>\n",
              "    </tr>\n",
              "    <tr>\n",
              "      <th>minimum_nights</th>\n",
              "      <td>0</td>\n",
              "    </tr>\n",
              "    <tr>\n",
              "      <th>maximum_nights</th>\n",
              "      <td>0</td>\n",
              "    </tr>\n",
              "    <tr>\n",
              "      <th>minimum_minimum_nights</th>\n",
              "      <td>0</td>\n",
              "    </tr>\n",
              "    <tr>\n",
              "      <th>maximum_minimum_nights</th>\n",
              "      <td>0</td>\n",
              "    </tr>\n",
              "    <tr>\n",
              "      <th>minimum_maximum_nights</th>\n",
              "      <td>0</td>\n",
              "    </tr>\n",
              "    <tr>\n",
              "      <th>accommodates</th>\n",
              "      <td>0</td>\n",
              "    </tr>\n",
              "  </tbody>\n",
              "</table>\n",
              "<p>106 rows × 1 columns</p>\n",
              "</div>"
            ],
            "text/plain": [
              "                                   0\n",
              "xl_picture_url                153254\n",
              "medium_url                    153254\n",
              "thumbnail_url                 153254\n",
              "jurisdiction_names            153201\n",
              "license                       153168\n",
              "square_feet                   152103\n",
              "monthly_price                 138972\n",
              "weekly_price                  136803\n",
              "notes                          91150\n",
              "host_acceptance_rate           79370\n",
              "access                         72049\n",
              "interaction                    61865\n",
              "host_about                     61156\n",
              "house_rules                    59676\n",
              "host_response_rate             55439\n",
              "host_response_time             55439\n",
              "neighborhood_overview          52796\n",
              "transit                        52735\n",
              "security_deposit               52623\n",
              "space                          42888\n",
              "review_scores_value            34032\n",
              "review_scores_location         34032\n",
              "review_scores_checkin          34023\n",
              "review_scores_accuracy         33984\n",
              "review_scores_communication    33975\n",
              "review_scores_cleanliness      33942\n",
              "review_scores_rating           33881\n",
              "cleaning_fee                   31923\n",
              "reviews_per_month              30965\n",
              "first_review                   30965\n",
              "...                              ...\n",
              "scrape_id                          0\n",
              "last_scraped                       0\n",
              "experiences_offered                0\n",
              "picture_url                        0\n",
              "host_id                            0\n",
              "host_url                           0\n",
              "host_verifications                 0\n",
              "street                             0\n",
              "neighbourhood_cleansed             0\n",
              "neighbourhood_group_cleansed       0\n",
              "smart_location                     0\n",
              "country_code                       0\n",
              "country                            0\n",
              "latitude                           0\n",
              "longitude                          0\n",
              "is_location_exact                  0\n",
              "property_type                      0\n",
              "room_type                          0\n",
              "listing_url                        0\n",
              "bed_type                           0\n",
              "amenities                          0\n",
              "price                              0\n",
              "guests_included                    0\n",
              "extra_people                       0\n",
              "minimum_nights                     0\n",
              "maximum_nights                     0\n",
              "minimum_minimum_nights             0\n",
              "maximum_minimum_nights             0\n",
              "minimum_maximum_nights             0\n",
              "accommodates                       0\n",
              "\n",
              "[106 rows x 1 columns]"
            ]
          },
          "execution_count": 5,
          "metadata": {},
          "output_type": "execute_result"
        },
        {
          "name": "stdout",
          "output_type": "stream",
          "text": [
            "time: 1.03 s (started: 2022-05-01 08:48:24 -05:00)\n"
          ]
        }
      ],
      "source": [
        "#To find the missing values in dataset \n",
        "pd.DataFrame(data.isna().sum().sort_values(ascending=False))"
      ]
    },
    {
      "cell_type": "markdown",
      "source": [
        "We will now see the distribution of the host_response_time using the bar graph"
      ],
      "metadata": {
        "id": "6FJ4DIYsWA-G"
      }
    },
    {
      "cell_type": "code",
      "execution_count": null,
      "metadata": {
        "id": "_hZ0ESiOVimg",
        "outputId": "c1cc30c7-7520-42fd-a0bb-611e289c9c3c"
      },
      "outputs": [
        {
          "name": "stdout",
          "output_type": "stream",
          "text": [
            "time: 390 ms (started: 2022-05-01 08:48:37 -05:00)\n"
          ]
        }
      ],
      "source": [
        "#Data Cleanup - Replacing missing value with most occuring  \n",
        "data['host_response_time'].isna().sum()\n",
        "data['host_response_time'].value_counts().plot(kind='bar')\n",
        "data['host_response_time'] = data['host_response_time'].fillna('within an hour')"
      ]
    },
    {
      "cell_type": "markdown",
      "source": [
        "It shows that most of the data is towards the 'within an hour'"
      ],
      "metadata": {
        "id": "M9b4kdceWB7P"
      }
    },
    {
      "cell_type": "code",
      "execution_count": null,
      "metadata": {
        "id": "iC2KyvBIVimh",
        "outputId": "7d81d75c-2cbd-4190-850a-7a4d5aae71ba"
      },
      "outputs": [
        {
          "name": "stdout",
          "output_type": "stream",
          "text": [
            "time: 109 ms (started: 2022-05-01 08:48:41 -05:00)\n"
          ]
        }
      ],
      "source": [
        "#Data Cleanup - Replacing missing value with most occuring \n",
        "data['host_is_superhost'].isna().sum()\n",
        "data['host_is_superhost'].value_counts().plot(kind='bar')\n",
        "data['host_is_superhost'] = data['host_is_superhost'].fillna('f')"
      ]
    },
    {
      "cell_type": "markdown",
      "source": [
        "The above plot showa that most of the values are 'f' so we are replacing all the values with the majoritry"
      ],
      "metadata": {
        "id": "RAM2qnEfWNEN"
      }
    },
    {
      "cell_type": "code",
      "execution_count": null,
      "metadata": {
        "id": "NPHk6vggVimh",
        "outputId": "f8238009-5eef-4365-c915-a1a7d1679314"
      },
      "outputs": [
        {
          "name": "stdout",
          "output_type": "stream",
          "text": [
            "time: 3.2 s (started: 2022-05-01 08:49:10 -05:00)\n"
          ]
        }
      ],
      "source": [
        "#Replace ' ' or (Blanks) with NaN \n",
        "data = data.replace({'':np.nan})\n",
        "def CalMissing(df):\n",
        "    MissingDF = 100*data.isna().sum()/len(data.index)\n",
        "    MissingDF = MissingDF.to_frame()\n",
        "    MissingDF = MissingDF[MissingDF[0] != 0]\n",
        "    MissingDF.plot.bar(figsize=(20,20))\n",
        "    return MissingDF\n",
        "X = CalMissing(data)"
      ]
    },
    {
      "cell_type": "markdown",
      "source": [
        "IN the below code we will remove the dollar sign for all the variable with $ sign"
      ],
      "metadata": {
        "id": "unEWhyT7WYh_"
      }
    },
    {
      "cell_type": "code",
      "execution_count": null,
      "metadata": {
        "tags": [],
        "id": "uPfhGq6BVimi",
        "outputId": "f9be1f4c-c1af-4af1-9e46-cdf2af4eb1a0"
      },
      "outputs": [
        {
          "name": "stderr",
          "output_type": "stream",
          "text": [
            "C:\\Users\\sagar\\AppData\\Local\\Temp/ipykernel_31904/4222471276.py:2: FutureWarning: The default value of regex will change from True to False in a future version.\n",
            "  data['host_response_rate']=data['host_response_rate'].str.replace('[%]','')\n",
            "C:\\Users\\sagar\\AppData\\Local\\Temp/ipykernel_31904/4222471276.py:3: FutureWarning: The default value of regex will change from True to False in a future version.\n",
            "  data['host_acceptance_rate']=data['host_acceptance_rate'].str.replace('[%]','')\n"
          ]
        },
        {
          "data": {
            "text/plain": [
              "0          225.0\n",
              "1           89.0\n",
              "2          200.0\n",
              "3           60.0\n",
              "4           79.0\n",
              "5           79.0\n",
              "6          150.0\n",
              "7           99.0\n",
              "8           89.0\n",
              "9           85.0\n",
              "10         120.0\n",
              "11         140.0\n",
              "12         199.0\n",
              "13         140.0\n",
              "14          99.0\n",
              "15         190.0\n",
              "16         299.0\n",
              "17         115.0\n",
              "18          32.0\n",
              "19         120.0\n",
              "20          80.0\n",
              "21          44.0\n",
              "22         175.0\n",
              "23          50.0\n",
              "24          52.0\n",
              "25          50.0\n",
              "26          70.0\n",
              "27          89.0\n",
              "28          85.0\n",
              "29         150.0\n",
              "           ...  \n",
              "153224      58.0\n",
              "153225      80.0\n",
              "153226     144.0\n",
              "153227      99.0\n",
              "153228     324.0\n",
              "153229      79.0\n",
              "153230     115.0\n",
              "153231      95.0\n",
              "153232     100.0\n",
              "153233       0.0\n",
              "153234      43.0\n",
              "153235      35.0\n",
              "153236      33.0\n",
              "153237      50.0\n",
              "153238      41.0\n",
              "153239     175.0\n",
              "153240      38.0\n",
              "153241     300.0\n",
              "153242      32.0\n",
              "153243     139.0\n",
              "153244     115.0\n",
              "153245     139.0\n",
              "153246    4000.0\n",
              "153247     145.0\n",
              "153248      50.0\n",
              "153249     150.0\n",
              "153250     149.0\n",
              "153251     188.0\n",
              "153252    1100.0\n",
              "153253     450.0\n",
              "Name: price, Length: 153254, dtype: float64"
            ]
          },
          "execution_count": 9,
          "metadata": {},
          "output_type": "execute_result"
        },
        {
          "name": "stdout",
          "output_type": "stream",
          "text": [
            "time: 2.56 s (started: 2022-05-01 08:49:22 -05:00)\n"
          ]
        }
      ],
      "source": [
        "#Data cleanup - Removing special characters from dataset \n",
        "data['host_response_rate']=data['host_response_rate'].str.replace('[%]','')\n",
        "data['host_acceptance_rate']=data['host_acceptance_rate'].str.replace('[%]','')\n",
        "data[['price','weekly_price','monthly_price','security_deposit','cleaning_fee','extra_people']] = data[['price','weekly_price','monthly_price','security_deposit','cleaning_fee','extra_people']].replace('[$,,]', '', regex=True)\n",
        "data['host_response_rate'].apply(lambda x: float(x))\n",
        "data['host_acceptance_rate'].apply(lambda x: float(x))\n",
        "data['price'].apply(lambda x: float(x))"
      ]
    },
    {
      "cell_type": "markdown",
      "source": [
        "We are now using the interquartile range to remove the outliers , we chose interquartile because we wanted to get the most observed data which doesnot have misconfigured values"
      ],
      "metadata": {
        "id": "XkYTZ3eOWiBH"
      }
    },
    {
      "cell_type": "code",
      "execution_count": null,
      "metadata": {
        "tags": [],
        "id": "h7_x5csVVimj",
        "outputId": "b25abefd-1b11-447a-9e29-149e0749e9fd"
      },
      "outputs": [
        {
          "data": {
            "text/plain": [
              "(144027, 106)"
            ]
          },
          "execution_count": 10,
          "metadata": {},
          "output_type": "execute_result"
        },
        {
          "name": "stdout",
          "output_type": "stream",
          "text": [
            "time: 375 ms (started: 2022-05-01 08:49:48 -05:00)\n"
          ]
        }
      ],
      "source": [
        "# Remove Price outliers\n",
        "percentile25 = data['price'].astype('float').quantile(0.25)\n",
        "percentile75 = data['price'].astype('float').quantile(0.75)\n",
        "iqr = percentile75 - percentile25\n",
        "upper_limit = percentile75 + 1.5 * iqr\n",
        "data = data[data['price'].astype('float') < upper_limit]\n",
        "data.shape"
      ]
    },
    {
      "cell_type": "markdown",
      "source": [
        "We will now drop some columns and rows  that are not useful and redundant"
      ],
      "metadata": {
        "id": "X4Ajmm61W3Ns"
      }
    },
    {
      "cell_type": "code",
      "execution_count": null,
      "metadata": {
        "id": "k3B1zi37Vimj",
        "outputId": "59c4c73f-2ca2-40d0-ba16-5e2e63ee955b"
      },
      "outputs": [
        {
          "name": "stderr",
          "output_type": "stream",
          "text": [
            "C:\\Users\\sagar\\AppData\\Local\\Temp/ipykernel_31904/3313257028.py:7: FutureWarning: In a future version of pandas all arguments of DataFrame.drop except for the argument 'labels' will be keyword-only\n",
            "  data = data.drop(data.loc[:,list((100*(data.isnull().sum()/len(data))>=55))].columns, 1)\n"
          ]
        },
        {
          "name": "stdout",
          "output_type": "stream",
          "text": [
            "time: 1.3 s (started: 2022-05-01 08:49:54 -05:00)\n"
          ]
        }
      ],
      "source": [
        "#Drop rows and columns that has missing values and redundant in any of the subset columns\n",
        "data = data.dropna( how='any',\n",
        "                    subset=['host_is_superhost', 'host_listings_count','neighbourhood','beds','host_location','reviews_per_month'])\n",
        "# Drop columns that has only URL\n",
        "data=data.loc[:, ~data.columns.str.contains(\"url\")]\n",
        "#Drop columns that has more than 55% missing values \n",
        "data = data.drop(data.loc[:,list((100*(data.isnull().sum()/len(data))>=55))].columns, 1)\n",
        "#Drop redundant columns\n",
        "data=data.drop(['name','host_name','host_id','host_is_superhost','host_identity_verified','neighbourhood','calendar_updated','host_neighbourhood', 'city','zipcode','market','first_review','last_review','calendar_last_scraped','experiences_offered','last_scraped','scrape_id','id','host_has_profile_pic','latitude','longitude'], axis = 1)"
      ]
    },
    {
      "cell_type": "code",
      "execution_count": null,
      "metadata": {
        "id": "gw716hrpVimk",
        "outputId": "1377e1f2-e66d-4e67-cc83-fd4bcfbd3c23"
      },
      "outputs": [
        {
          "name": "stdout",
          "output_type": "stream",
          "text": [
            "time: 610 ms (started: 2022-05-01 08:49:57 -05:00)\n"
          ]
        }
      ],
      "source": [
        "#use following function to check missing value %\n",
        "X = CalMissing(data)"
      ]
    },
    {
      "cell_type": "markdown",
      "source": [
        "Transforming the boolean values to numericals"
      ],
      "metadata": {
        "id": "-zzYKd2yW_80"
      }
    },
    {
      "cell_type": "code",
      "execution_count": null,
      "metadata": {
        "id": "C8rTxkxZVimk",
        "outputId": "027f6852-bd7b-4b92-fd2f-dcf5b5ba7c21"
      },
      "outputs": [
        {
          "name": "stdout",
          "output_type": "stream",
          "text": [
            "time: 579 ms (started: 2022-05-01 08:50:00 -05:00)\n"
          ]
        }
      ],
      "source": [
        "#Mapping columns with Boolean True/False to 1/0\n",
        "#data['host_is_superhost'] = data['host_is_superhost'].map({'t':1 ,'f':0}) \n",
        "#data['host_has_profile_pic'] = data['host_has_profile_pic'].map({'t':1 ,'f':0}) \n",
        "#data['host_identity_verified'] = data['host_identity_verified'].map({'t':1 ,'f':0}) \n",
        "data['is_location_exact'] = data['is_location_exact'].map({'t':1 ,'f':0})\n",
        "data['has_availability'] = data['has_availability'].map({'t':1 ,'f':0}) \n",
        "data['instant_bookable'] = data['instant_bookable'].map({'t':1 ,'f':0}) \n",
        "data['requires_license'] = data['requires_license'].map({'t':1 ,'f':0}) \n",
        "data['is_business_travel_ready'] = data['is_business_travel_ready'].map({'t':1 ,'f':0}) \n",
        "data['require_guest_profile_picture'] = data['require_guest_profile_picture'].map({'t':1 ,'f':0})\n",
        "data['require_guest_phone_verification'] = data['require_guest_phone_verification'].map({'t':1 ,'f':0}) \t"
      ]
    },
    {
      "cell_type": "markdown",
      "source": [
        "There are different types of rooms and we found that usually the type of room is more important attribute to determine the house that we choose to live in. So we tried to understand the statictsics based on the room type"
      ],
      "metadata": {
        "id": "XjrJtgxwXKOs"
      }
    },
    {
      "cell_type": "code",
      "execution_count": null,
      "metadata": {
        "id": "TlEZCH96Viml",
        "outputId": "28476cda-a612-41c0-ab18-3fe629689a87"
      },
      "outputs": [
        {
          "data": {
            "text/html": [
              "<div>\n",
              "<style scoped>\n",
              "    .dataframe tbody tr th:only-of-type {\n",
              "        vertical-align: middle;\n",
              "    }\n",
              "\n",
              "    .dataframe tbody tr th {\n",
              "        vertical-align: top;\n",
              "    }\n",
              "\n",
              "    .dataframe thead th {\n",
              "        text-align: right;\n",
              "    }\n",
              "</style>\n",
              "<table border=\"1\" class=\"dataframe\">\n",
              "  <thead>\n",
              "    <tr style=\"text-align: right;\">\n",
              "      <th></th>\n",
              "      <th>summary</th>\n",
              "      <th>space</th>\n",
              "      <th>description</th>\n",
              "      <th>neighborhood_overview</th>\n",
              "      <th>transit</th>\n",
              "      <th>access</th>\n",
              "      <th>interaction</th>\n",
              "      <th>house_rules</th>\n",
              "      <th>host_since</th>\n",
              "      <th>host_location</th>\n",
              "      <th>...</th>\n",
              "      <th>instant_bookable</th>\n",
              "      <th>is_business_travel_ready</th>\n",
              "      <th>cancellation_policy</th>\n",
              "      <th>require_guest_profile_picture</th>\n",
              "      <th>require_guest_phone_verification</th>\n",
              "      <th>calculated_host_listings_count</th>\n",
              "      <th>calculated_host_listings_count_entire_homes</th>\n",
              "      <th>calculated_host_listings_count_private_rooms</th>\n",
              "      <th>calculated_host_listings_count_shared_rooms</th>\n",
              "      <th>reviews_per_month</th>\n",
              "    </tr>\n",
              "    <tr>\n",
              "      <th>room_type</th>\n",
              "      <th></th>\n",
              "      <th></th>\n",
              "      <th></th>\n",
              "      <th></th>\n",
              "      <th></th>\n",
              "      <th></th>\n",
              "      <th></th>\n",
              "      <th></th>\n",
              "      <th></th>\n",
              "      <th></th>\n",
              "      <th></th>\n",
              "      <th></th>\n",
              "      <th></th>\n",
              "      <th></th>\n",
              "      <th></th>\n",
              "      <th></th>\n",
              "      <th></th>\n",
              "      <th></th>\n",
              "      <th></th>\n",
              "      <th></th>\n",
              "      <th></th>\n",
              "    </tr>\n",
              "  </thead>\n",
              "  <tbody>\n",
              "    <tr>\n",
              "      <th>Entire home/apt</th>\n",
              "      <td>56065</td>\n",
              "      <td>44341</td>\n",
              "      <td>57718</td>\n",
              "      <td>40316</td>\n",
              "      <td>41073</td>\n",
              "      <td>32183</td>\n",
              "      <td>36354</td>\n",
              "      <td>37932</td>\n",
              "      <td>58271</td>\n",
              "      <td>58271</td>\n",
              "      <td>...</td>\n",
              "      <td>58271</td>\n",
              "      <td>58271</td>\n",
              "      <td>58271</td>\n",
              "      <td>58271</td>\n",
              "      <td>58271</td>\n",
              "      <td>58271</td>\n",
              "      <td>58271</td>\n",
              "      <td>58271</td>\n",
              "      <td>58271</td>\n",
              "      <td>58271</td>\n",
              "    </tr>\n",
              "    <tr>\n",
              "      <th>Hotel room</th>\n",
              "      <td>686</td>\n",
              "      <td>560</td>\n",
              "      <td>697</td>\n",
              "      <td>441</td>\n",
              "      <td>401</td>\n",
              "      <td>349</td>\n",
              "      <td>375</td>\n",
              "      <td>575</td>\n",
              "      <td>702</td>\n",
              "      <td>702</td>\n",
              "      <td>...</td>\n",
              "      <td>702</td>\n",
              "      <td>702</td>\n",
              "      <td>702</td>\n",
              "      <td>702</td>\n",
              "      <td>702</td>\n",
              "      <td>702</td>\n",
              "      <td>702</td>\n",
              "      <td>702</td>\n",
              "      <td>702</td>\n",
              "      <td>702</td>\n",
              "    </tr>\n",
              "    <tr>\n",
              "      <th>Private room</th>\n",
              "      <td>51121</td>\n",
              "      <td>40101</td>\n",
              "      <td>52379</td>\n",
              "      <td>37272</td>\n",
              "      <td>38218</td>\n",
              "      <td>33550</td>\n",
              "      <td>35545</td>\n",
              "      <td>34492</td>\n",
              "      <td>53513</td>\n",
              "      <td>53513</td>\n",
              "      <td>...</td>\n",
              "      <td>53513</td>\n",
              "      <td>53513</td>\n",
              "      <td>53513</td>\n",
              "      <td>53513</td>\n",
              "      <td>53513</td>\n",
              "      <td>53513</td>\n",
              "      <td>53513</td>\n",
              "      <td>53513</td>\n",
              "      <td>53513</td>\n",
              "      <td>53513</td>\n",
              "    </tr>\n",
              "    <tr>\n",
              "      <th>Shared room</th>\n",
              "      <td>2475</td>\n",
              "      <td>2040</td>\n",
              "      <td>2537</td>\n",
              "      <td>1795</td>\n",
              "      <td>1779</td>\n",
              "      <td>1581</td>\n",
              "      <td>1649</td>\n",
              "      <td>1793</td>\n",
              "      <td>2581</td>\n",
              "      <td>2581</td>\n",
              "      <td>...</td>\n",
              "      <td>2581</td>\n",
              "      <td>2581</td>\n",
              "      <td>2581</td>\n",
              "      <td>2581</td>\n",
              "      <td>2581</td>\n",
              "      <td>2581</td>\n",
              "      <td>2581</td>\n",
              "      <td>2581</td>\n",
              "      <td>2581</td>\n",
              "      <td>2581</td>\n",
              "    </tr>\n",
              "  </tbody>\n",
              "</table>\n",
              "<p>4 rows × 70 columns</p>\n",
              "</div>"
            ],
            "text/plain": [
              "                 summary  space  description  neighborhood_overview  transit  \\\n",
              "room_type                                                                      \n",
              "Entire home/apt    56065  44341        57718                  40316    41073   \n",
              "Hotel room           686    560          697                    441      401   \n",
              "Private room       51121  40101        52379                  37272    38218   \n",
              "Shared room         2475   2040         2537                   1795     1779   \n",
              "\n",
              "                 access  interaction  house_rules  host_since  host_location  \\\n",
              "room_type                                                                      \n",
              "Entire home/apt   32183        36354        37932       58271          58271   \n",
              "Hotel room          349          375          575         702            702   \n",
              "Private room      33550        35545        34492       53513          53513   \n",
              "Shared room        1581         1649         1793        2581           2581   \n",
              "\n",
              "                 ...  instant_bookable  is_business_travel_ready  \\\n",
              "room_type        ...                                               \n",
              "Entire home/apt  ...             58271                     58271   \n",
              "Hotel room       ...               702                       702   \n",
              "Private room     ...             53513                     53513   \n",
              "Shared room      ...              2581                      2581   \n",
              "\n",
              "                 cancellation_policy  require_guest_profile_picture  \\\n",
              "room_type                                                             \n",
              "Entire home/apt                58271                          58271   \n",
              "Hotel room                       702                            702   \n",
              "Private room                   53513                          53513   \n",
              "Shared room                     2581                           2581   \n",
              "\n",
              "                 require_guest_phone_verification  \\\n",
              "room_type                                           \n",
              "Entire home/apt                             58271   \n",
              "Hotel room                                    702   \n",
              "Private room                                53513   \n",
              "Shared room                                  2581   \n",
              "\n",
              "                 calculated_host_listings_count  \\\n",
              "room_type                                         \n",
              "Entire home/apt                           58271   \n",
              "Hotel room                                  702   \n",
              "Private room                              53513   \n",
              "Shared room                                2581   \n",
              "\n",
              "                 calculated_host_listings_count_entire_homes  \\\n",
              "room_type                                                      \n",
              "Entire home/apt                                        58271   \n",
              "Hotel room                                               702   \n",
              "Private room                                           53513   \n",
              "Shared room                                             2581   \n",
              "\n",
              "                 calculated_host_listings_count_private_rooms  \\\n",
              "room_type                                                       \n",
              "Entire home/apt                                         58271   \n",
              "Hotel room                                                702   \n",
              "Private room                                            53513   \n",
              "Shared room                                              2581   \n",
              "\n",
              "                 calculated_host_listings_count_shared_rooms  \\\n",
              "room_type                                                      \n",
              "Entire home/apt                                        58271   \n",
              "Hotel room                                               702   \n",
              "Private room                                           53513   \n",
              "Shared room                                             2581   \n",
              "\n",
              "                 reviews_per_month  \n",
              "room_type                           \n",
              "Entire home/apt              58271  \n",
              "Hotel room                     702  \n",
              "Private room                 53513  \n",
              "Shared room                   2581  \n",
              "\n",
              "[4 rows x 70 columns]"
            ]
          },
          "execution_count": 14,
          "metadata": {},
          "output_type": "execute_result"
        },
        {
          "name": "stdout",
          "output_type": "stream",
          "text": [
            "time: 907 ms (started: 2022-05-01 08:51:26 -05:00)\n"
          ]
        }
      ],
      "source": [
        "pd.DataFrame(data.groupby(['room_type']).count())"
      ]
    },
    {
      "cell_type": "code",
      "execution_count": null,
      "metadata": {
        "id": "nClRdJxFViml",
        "outputId": "a52776db-c48d-47dc-c4a2-0d9c500238e5"
      },
      "outputs": [
        {
          "name": "stdout",
          "output_type": "stream",
          "text": [
            "time: 0 ns (started: 2022-04-24 20:08:04 -05:00)\n"
          ]
        }
      ],
      "source": [
        "report = ProfileReport(data,title='Airbnb Pricing',explorative=True)"
      ]
    },
    {
      "cell_type": "code",
      "execution_count": null,
      "metadata": {
        "id": "QNYpOozBViml",
        "outputId": "4e56a08a-7a49-4863-804b-b9a5ce60a3a3"
      },
      "outputs": [
        {
          "name": "stdout",
          "output_type": "stream",
          "text": [
            "time: 0 ns (started: 2022-04-24 20:08:04 -05:00)\n"
          ]
        }
      ],
      "source": [
        "report.to_file('Project_report.html')"
      ]
    },
    {
      "cell_type": "markdown",
      "source": [
        "This has given us the profile of the dataset which is easy to interpret than going through each column"
      ],
      "metadata": {
        "id": "3bwkc8PtXkre"
      }
    },
    {
      "cell_type": "code",
      "execution_count": null,
      "metadata": {
        "id": "G51kIxsFViml",
        "outputId": "92f95e9a-f8ca-4862-8930-780861f94f52"
      },
      "outputs": [
        {
          "name": "stdout",
          "output_type": "stream",
          "text": [
            "time: 1.09 s (started: 2022-04-24 20:08:04 -05:00)\n"
          ]
        },
        {
          "name": "stderr",
          "output_type": "stream",
          "text": [
            "Enabling notebook extension jupyter-js-widgets/extension...\n",
            "      - Validating: ok\n"
          ]
        }
      ],
      "source": [
        "!jupyter nbextension enable --py widgetsnbextension"
      ]
    },
    {
      "cell_type": "code",
      "execution_count": null,
      "metadata": {
        "id": "5Ddwn6HBVimm",
        "outputId": "386edc33-a2b2-4db6-aa41-9c4d8bed1702"
      },
      "outputs": [
        {
          "name": "stdout",
          "output_type": "stream",
          "text": [
            "Index(['summary', 'space', 'description', 'neighborhood_overview', 'transit',\n",
            "       'access', 'interaction', 'house_rules', 'host_since', 'host_location',\n",
            "       'host_about', 'host_response_time', 'host_response_rate',\n",
            "       'host_acceptance_rate', 'host_listings_count',\n",
            "       'host_total_listings_count', 'host_verifications', 'street',\n",
            "       'neighbourhood_cleansed', 'neighbourhood_group_cleansed', 'state',\n",
            "       'smart_location', 'country_code', 'country', 'is_location_exact',\n",
            "       'property_type', 'room_type', 'accommodates', 'bathrooms', 'bedrooms',\n",
            "       'beds', 'bed_type', 'amenities', 'price', 'security_deposit',\n",
            "       'cleaning_fee', 'guests_included', 'extra_people', 'minimum_nights',\n",
            "       'maximum_nights', 'minimum_minimum_nights', 'maximum_minimum_nights',\n",
            "       'minimum_maximum_nights', 'maximum_maximum_nights',\n",
            "       'minimum_nights_avg_ntm', 'maximum_nights_avg_ntm', 'has_availability',\n",
            "       'availability_30', 'availability_60', 'availability_90',\n",
            "       'availability_365', 'number_of_reviews', 'number_of_reviews_ltm',\n",
            "       'review_scores_rating', 'review_scores_accuracy',\n",
            "       'review_scores_cleanliness', 'review_scores_checkin',\n",
            "       'review_scores_communication', 'review_scores_location',\n",
            "       'review_scores_value', 'requires_license', 'instant_bookable',\n",
            "       'is_business_travel_ready', 'cancellation_policy',\n",
            "       'require_guest_profile_picture', 'require_guest_phone_verification',\n",
            "       'calculated_host_listings_count',\n",
            "       'calculated_host_listings_count_entire_homes',\n",
            "       'calculated_host_listings_count_private_rooms',\n",
            "       'calculated_host_listings_count_shared_rooms', 'reviews_per_month'],\n",
            "      dtype='object')\n",
            "time: 15 ms (started: 2022-04-24 20:08:05 -05:00)\n"
          ]
        }
      ],
      "source": [
        "with pd.option_context('display.max_rows', None, 'display.max_columns', None):\n",
        "    print (data.columns)"
      ]
    },
    {
      "cell_type": "markdown",
      "source": [
        "There are someother states and different spelling to NY so we it consistent all over the dataset"
      ],
      "metadata": {
        "id": "kzgMdzA2X94z"
      }
    },
    {
      "cell_type": "code",
      "execution_count": null,
      "metadata": {
        "id": "34QNB3DoVimm",
        "outputId": "7dae0c08-6f89-4c31-e8ff-61b8376cb3b7"
      },
      "outputs": [
        {
          "data": {
            "text/html": [
              "<div>\n",
              "<style scoped>\n",
              "    .dataframe tbody tr th:only-of-type {\n",
              "        vertical-align: middle;\n",
              "    }\n",
              "\n",
              "    .dataframe tbody tr th {\n",
              "        vertical-align: top;\n",
              "    }\n",
              "\n",
              "    .dataframe thead th {\n",
              "        text-align: right;\n",
              "    }\n",
              "</style>\n",
              "<table border=\"1\" class=\"dataframe\">\n",
              "  <thead>\n",
              "    <tr style=\"text-align: right;\">\n",
              "      <th></th>\n",
              "      <th>summary</th>\n",
              "      <th>space</th>\n",
              "      <th>description</th>\n",
              "      <th>neighborhood_overview</th>\n",
              "      <th>transit</th>\n",
              "      <th>access</th>\n",
              "      <th>interaction</th>\n",
              "      <th>house_rules</th>\n",
              "      <th>host_since</th>\n",
              "      <th>host_location</th>\n",
              "      <th>...</th>\n",
              "      <th>instant_bookable</th>\n",
              "      <th>is_business_travel_ready</th>\n",
              "      <th>cancellation_policy</th>\n",
              "      <th>require_guest_profile_picture</th>\n",
              "      <th>require_guest_phone_verification</th>\n",
              "      <th>calculated_host_listings_count</th>\n",
              "      <th>calculated_host_listings_count_entire_homes</th>\n",
              "      <th>calculated_host_listings_count_private_rooms</th>\n",
              "      <th>calculated_host_listings_count_shared_rooms</th>\n",
              "      <th>reviews_per_month</th>\n",
              "    </tr>\n",
              "    <tr>\n",
              "      <th>state</th>\n",
              "      <th></th>\n",
              "      <th></th>\n",
              "      <th></th>\n",
              "      <th></th>\n",
              "      <th></th>\n",
              "      <th></th>\n",
              "      <th></th>\n",
              "      <th></th>\n",
              "      <th></th>\n",
              "      <th></th>\n",
              "      <th></th>\n",
              "      <th></th>\n",
              "      <th></th>\n",
              "      <th></th>\n",
              "      <th></th>\n",
              "      <th></th>\n",
              "      <th></th>\n",
              "      <th></th>\n",
              "      <th></th>\n",
              "      <th></th>\n",
              "      <th></th>\n",
              "    </tr>\n",
              "  </thead>\n",
              "  <tbody>\n",
              "    <tr>\n",
              "      <th>NY</th>\n",
              "      <td>110323</td>\n",
              "      <td>87021</td>\n",
              "      <td>113307</td>\n",
              "      <td>79801</td>\n",
              "      <td>81447</td>\n",
              "      <td>67645</td>\n",
              "      <td>73899</td>\n",
              "      <td>74771</td>\n",
              "      <td>115043</td>\n",
              "      <td>115043</td>\n",
              "      <td>...</td>\n",
              "      <td>115043</td>\n",
              "      <td>115043</td>\n",
              "      <td>115043</td>\n",
              "      <td>115043</td>\n",
              "      <td>115043</td>\n",
              "      <td>115043</td>\n",
              "      <td>115043</td>\n",
              "      <td>115043</td>\n",
              "      <td>115043</td>\n",
              "      <td>115043</td>\n",
              "    </tr>\n",
              "  </tbody>\n",
              "</table>\n",
              "<p>1 rows × 70 columns</p>\n",
              "</div>"
            ],
            "text/plain": [
              "       summary  space  description  neighborhood_overview  transit  access  \\\n",
              "state                                                                        \n",
              "NY      110323  87021       113307                  79801    81447   67645   \n",
              "\n",
              "       interaction  house_rules  host_since  host_location  ...  \\\n",
              "state                                                       ...   \n",
              "NY           73899        74771      115043         115043  ...   \n",
              "\n",
              "       instant_bookable  is_business_travel_ready  cancellation_policy  \\\n",
              "state                                                                    \n",
              "NY               115043                    115043               115043   \n",
              "\n",
              "       require_guest_profile_picture  require_guest_phone_verification  \\\n",
              "state                                                                    \n",
              "NY                            115043                            115043   \n",
              "\n",
              "       calculated_host_listings_count  \\\n",
              "state                                   \n",
              "NY                             115043   \n",
              "\n",
              "       calculated_host_listings_count_entire_homes  \\\n",
              "state                                                \n",
              "NY                                          115043   \n",
              "\n",
              "       calculated_host_listings_count_private_rooms  \\\n",
              "state                                                 \n",
              "NY                                           115043   \n",
              "\n",
              "       calculated_host_listings_count_shared_rooms  reviews_per_month  \n",
              "state                                                                  \n",
              "NY                                          115043             115043  \n",
              "\n",
              "[1 rows x 70 columns]"
            ]
          },
          "execution_count": 74,
          "metadata": {},
          "output_type": "execute_result"
        },
        {
          "name": "stdout",
          "output_type": "stream",
          "text": [
            "time: 781 ms (started: 2022-04-24 20:08:05 -05:00)\n"
          ]
        }
      ],
      "source": [
        "# To see the NY listings \n",
        "import warnings\n",
        "warnings.filterwarnings(\"ignore\")\n",
        "data['state']=data['state'].replace(['ny'],'NY')\n",
        "data['state']=data['state'].replace(['Ny'],'NY')\n",
        "data['state']=data['state'].replace(['New York'],'NY')\n",
        "data = data[data['state']=='NY']\n",
        "data.groupby(['state']).count()"
      ]
    },
    {
      "cell_type": "markdown",
      "source": [
        "We have measured the distribution og price using a histogram and we can see that it is left skewed"
      ],
      "metadata": {
        "id": "zfDWt45vYH9c"
      }
    },
    {
      "cell_type": "code",
      "execution_count": null,
      "metadata": {
        "colab": {
          "base_uri": "https://localhost:8080/",
          "height": 300
        },
        "id": "BoejvGeYRqGY",
        "outputId": "7d70d352-a4a5-451f-b0d1-cfa691538f1a"
      },
      "outputs": [
        {
          "data": {
            "text/plain": [
              "<AxesSubplot:>"
            ]
          },
          "execution_count": 75,
          "metadata": {},
          "output_type": "execute_result"
        },
        {
          "data": {
            "image/png": "[encoded data removed]",
            "text/plain": [
              "<Figure size 432x288 with 1 Axes>"
            ]
          },
          "metadata": {
            "needs_background": "light"
          },
          "output_type": "display_data"
        },
        {
          "name": "stdout",
          "output_type": "stream",
          "text": [
            "time: 4.69 s (started: 2022-04-24 20:08:06 -05:00)\n"
          ]
        }
      ],
      "source": [
        "%matplotlib inline\n",
        "data.price.hist(bins=(np.arange(start=0, stop=400)),density=True)"
      ]
    },
    {
      "cell_type": "code",
      "execution_count": null,
      "metadata": {
        "colab": {
          "base_uri": "https://localhost:8080/"
        },
        "id": "Ocy6OMKQMwih",
        "outputId": "0b721d3b-40de-4e43-dd96-8cf3a5ee6e6b",
        "tags": []
      },
      "outputs": [
        {
          "data": {
            "text/plain": [
              "array(['Midtown', 'Clinton Hill', 'Murray Hill', 'Bedford-Stuyvesant',\n",
              "       \"Hell's Kitchen\", 'Upper West Side', 'Chinatown', 'South Slope',\n",
              "       'West Village', 'Williamsburg', 'Fort Greene', 'Chelsea',\n",
              "       'Crown Heights', 'Park Slope', 'Inwood', 'East Village', 'Harlem',\n",
              "       'Bushwick', 'Lower East Side', 'Prospect-Lefferts Gardens',\n",
              "       'Long Island City', 'Greenpoint', 'Kips Bay', 'SoHo',\n",
              "       'Upper East Side', 'Red Hook', 'Prospect Heights', 'East Harlem',\n",
              "       'Washington Heights', 'Woodside', 'Flatbush', 'Carroll Gardens',\n",
              "       'Gowanus', 'Flatlands', 'Cobble Hill', 'Flushing', 'Sunnyside',\n",
              "       'St. George', 'Tribeca', 'Highbridge', 'Morningside Heights',\n",
              "       'Jamaica', 'Sunset Park', 'Middle Village', 'Ridgewood', 'NoHo',\n",
              "       'Ditmars Steinway', 'Flatiron District', 'Windsor Terrace',\n",
              "       'Roosevelt Island', 'Greenwich Village', 'Little Italy',\n",
              "       'Tompkinsville', 'Gramercy', 'Astoria', 'Eastchester',\n",
              "       'Kingsbridge', 'Boerum Hill', 'Brooklyn Heights', 'Two Bridges',\n",
              "       'Queens Village', 'Rockaway Beach', 'Forest Hills',\n",
              "       'East Flatbush', 'Nolita', 'Woodlawn', 'University Heights',\n",
              "       'Allerton', 'East New York', 'Theater District', 'Sheepshead Bay',\n",
              "       'Fort Hamilton', 'Bensonhurst', 'Shore Acres', 'Bayswater',\n",
              "       'Richmond Hill', 'DUMBO', 'Elmhurst', 'Brighton Beach',\n",
              "       'Cypress Hills', 'St. Albans', 'Arrochar', 'Financial District',\n",
              "       'Rego Park', 'Wakefield', 'Kensington', 'Clifton', 'Bay Ridge',\n",
              "       'Maspeth', 'Graniteville', 'Spuyten Duyvil', 'Stapleton',\n",
              "       'Briarwood', 'Columbia St', 'Morris Heights', 'Vinegar Hill',\n",
              "       'Mott Haven', 'Jackson Heights', 'Longwood', 'Battery Park City',\n",
              "       'Bayside', 'East Elmhurst', 'New Springville', 'Concourse',\n",
              "       'Arverne', 'Gravesend', 'Civic Center', 'Tottenville', 'Canarsie',\n",
              "       'Mariners Harbor', 'Concord', 'Borough Park', 'Downtown Brooklyn',\n",
              "       'Kew Gardens', 'Mount Eden', 'City Island', 'Glendale',\n",
              "       'Port Morris', 'Williamsbridge', 'Soundview', 'Woodhaven',\n",
              "       'Co-op City', 'Stuyvesant Town', 'Parkchester', 'North Riverdale',\n",
              "       'Dyker Heights', 'Bronxdale', 'Riverdale', 'Ozone Park',\n",
              "       'Bay Terrace', 'Norwood', 'Claremont Village', 'Fordham',\n",
              "       'Concourse Village', 'Fieldston', 'Eltingville', 'Brownsville',\n",
              "       'Midwood', 'Navy Yard', 'Clason Point', 'Lighthouse Hill',\n",
              "       'Unionport', 'Howard Beach', 'Belle Harbor', 'Kew Gardens Hills',\n",
              "       'Jamaica Estates', 'Bellerose', 'Mount Hope', 'Morris Park',\n",
              "       'West Brighton', 'College Point', 'Far Rockaway',\n",
              "       'South Ozone Park', 'Tremont', 'Corona', 'Springfield Gardens',\n",
              "       'Manhattan Beach', 'Marble Hill', 'Dongan Hills',\n",
              "       'East Morrisania', 'Hunts Point', 'Pelham Bay', 'Randall Manor',\n",
              "       'Fresh Meadows', 'Throgs Neck', 'Great Kills', 'Silver Lake',\n",
              "       'Laurelton', 'Grymes Hill', 'Holliswood', 'Pelham Gardens',\n",
              "       'Rosedale', 'Edgemere', 'New Brighton', 'Baychester', 'Sea Gate',\n",
              "       'Bergen Beach', 'Cambria Heights', 'Richmondtown', 'South Beach',\n",
              "       'Howland Hook', 'Melrose', 'Coney Island', \"Prince's Bay\",\n",
              "       'Midland Beach', 'Bath Beach', 'Jamaica Hills',\n",
              "       'Castleton Corners', 'Oakwood', 'Castle Hill', 'Schuylerville',\n",
              "       'Huguenot', 'Whitestone', 'Edenwald', 'Belmont', 'Olinville',\n",
              "       'Port Richmond', 'Emerson Hill', 'Westerleigh', 'Morrisania',\n",
              "       'Neponsit', 'Bay Terrace, Staten Island', 'Westchester Square',\n",
              "       'Rosebank', 'Mill Basin', 'Van Nest', 'Arden Heights',\n",
              "       \"Bull's Head\", 'Douglaston', 'Grant City', 'Hollis',\n",
              "       'Breezy Point', 'Willowbrook', 'New Dorp Beach', 'Todt Hill',\n",
              "       'West Farms', 'Rossville', 'Country Club'], dtype=object)"
            ]
          },
          "execution_count": 76,
          "metadata": {},
          "output_type": "execute_result"
        },
        {
          "name": "stdout",
          "output_type": "stream",
          "text": [
            "time: 16 ms (started: 2022-04-24 20:08:11 -05:00)\n"
          ]
        }
      ],
      "source": [
        "data.neighbourhood_cleansed.unique()"
      ]
    },
    {
      "cell_type": "markdown",
      "source": [
        "We coverted the host_response_rate to normalize it by dividing it by 100"
      ],
      "metadata": {
        "id": "ApQhYRjMYSTo"
      }
    },
    {
      "cell_type": "code",
      "execution_count": null,
      "metadata": {
        "colab": {
          "base_uri": "https://localhost:8080/"
        },
        "id": "9kE7BmrvfFfp",
        "outputId": "7c6fb768-c3e7-47c9-fc39-0d7ce312686f"
      },
      "outputs": [
        {
          "name": "stdout",
          "output_type": "stream",
          "text": [
            "time: 109 ms (started: 2022-05-01 08:51:42 -05:00)\n"
          ]
        }
      ],
      "source": [
        "data['host_response_rate'] = data['host_response_rate'].astype('float') / 100.0"
      ]
    },
    {
      "cell_type": "code",
      "execution_count": null,
      "metadata": {
        "tags": [],
        "id": "5Eh6s7qVVimn",
        "outputId": "6f26b64a-c829-481f-fb35-8407250a61a3"
      },
      "outputs": [
        {
          "data": {
            "text/plain": [
              "Index(['summary', 'space', 'description', 'neighborhood_overview', 'transit',\n",
              "       'access', 'interaction', 'house_rules', 'host_since', 'host_location',\n",
              "       'host_about', 'host_response_time', 'host_response_rate',\n",
              "       'host_acceptance_rate', 'host_listings_count',\n",
              "       'host_total_listings_count', 'host_verifications', 'street',\n",
              "       'neighbourhood_cleansed', 'neighbourhood_group_cleansed', 'state',\n",
              "       'smart_location', 'country_code', 'country', 'is_location_exact',\n",
              "       'property_type', 'room_type', 'accommodates', 'bathrooms', 'bedrooms',\n",
              "       'beds', 'bed_type', 'amenities', 'price', 'security_deposit',\n",
              "       'cleaning_fee', 'guests_included', 'extra_people', 'minimum_nights',\n",
              "       'maximum_nights', 'minimum_minimum_nights', 'maximum_minimum_nights',\n",
              "       'minimum_maximum_nights', 'maximum_maximum_nights',\n",
              "       'minimum_nights_avg_ntm', 'maximum_nights_avg_ntm', 'has_availability',\n",
              "       'availability_30', 'availability_60', 'availability_90',\n",
              "       'availability_365', 'number_of_reviews', 'number_of_reviews_ltm',\n",
              "       'review_scores_rating', 'review_scores_accuracy',\n",
              "       'review_scores_cleanliness', 'review_scores_checkin',\n",
              "       'review_scores_communication', 'review_scores_location',\n",
              "       'review_scores_value', 'requires_license', 'instant_bookable',\n",
              "       'is_business_travel_ready', 'cancellation_policy',\n",
              "       'require_guest_profile_picture', 'require_guest_phone_verification',\n",
              "       'calculated_host_listings_count',\n",
              "       'calculated_host_listings_count_entire_homes',\n",
              "       'calculated_host_listings_count_private_rooms',\n",
              "       'calculated_host_listings_count_shared_rooms', 'reviews_per_month'],\n",
              "      dtype='object')"
            ]
          },
          "execution_count": 78,
          "metadata": {},
          "output_type": "execute_result"
        },
        {
          "name": "stdout",
          "output_type": "stream",
          "text": [
            "time: 0 ns (started: 2022-04-24 20:08:11 -05:00)\n"
          ]
        }
      ],
      "source": [
        "data.columns"
      ]
    },
    {
      "cell_type": "markdown",
      "source": [],
      "metadata": {
        "id": "3xpRaNfhZeWn"
      }
    },
    {
      "cell_type": "markdown",
      "source": [
        "Now we can see that the final list of columns is decreased to 71  and the rows to 115043"
      ],
      "metadata": {
        "id": "-DJaTMUDZXLy"
      }
    },
    {
      "cell_type": "code",
      "execution_count": null,
      "metadata": {
        "id": "P-TYQd8iVimn",
        "outputId": "537be6cf-d398-44c1-a06e-7926ce8e4c9f"
      },
      "outputs": [
        {
          "data": {
            "text/plain": [
              "(115043, 71)"
            ]
          },
          "execution_count": 81,
          "metadata": {},
          "output_type": "execute_result"
        },
        {
          "name": "stdout",
          "output_type": "stream",
          "text": [
            "time: 0 ns (started: 2022-04-24 20:08:11 -05:00)\n"
          ]
        }
      ],
      "source": [
        "data.shape"
      ]
    },
    {
      "cell_type": "code",
      "execution_count": null,
      "metadata": {
        "id": "Hevqr_b8Vimn",
        "outputId": "c3e484bc-9a57-4316-d821-aa70ac2ef162"
      },
      "outputs": [
        {
          "name": "stdout",
          "output_type": "stream",
          "text": [
            "time: 0 ns (started: 2022-04-24 20:08:11 -05:00)\n"
          ]
        }
      ],
      "source": [
        "# data.drop(data.columns.difference(selected), axis = 1, inplace = True)"
      ]
    },
    {
      "cell_type": "code",
      "execution_count": null,
      "metadata": {
        "id": "yZheSYv5Vimn",
        "outputId": "df97078f-2187-44b5-c929-a5bdb68c68fe"
      },
      "outputs": [
        {
          "name": "stdout",
          "output_type": "stream",
          "text": [
            "time: 0 ns (started: 2022-04-24 20:08:11 -05:00)\n"
          ]
        }
      ],
      "source": [
        "# data = data.sample(n=7000)"
      ]
    },
    {
      "cell_type": "code",
      "execution_count": null,
      "metadata": {
        "tags": [],
        "id": "T7HqOhutVimn",
        "outputId": "f13e90f9-1d85-483e-dc02-cbdaedc69026"
      },
      "outputs": [
        {
          "data": {
            "text/plain": [
              "array([[<AxesSubplot:xlabel='beds', ylabel='beds'>,\n",
              "        <AxesSubplot:xlabel='number_of_reviews', ylabel='beds'>,\n",
              "        <AxesSubplot:xlabel='accommodates', ylabel='beds'>,\n",
              "        <AxesSubplot:xlabel='review_scores_rating', ylabel='beds'>],\n",
              "       [<AxesSubplot:xlabel='beds', ylabel='number_of_reviews'>,\n",
              "        <AxesSubplot:xlabel='number_of_reviews', ylabel='number_of_reviews'>,\n",
              "        <AxesSubplot:xlabel='accommodates', ylabel='number_of_reviews'>,\n",
              "        <AxesSubplot:xlabel='review_scores_rating', ylabel='number_of_reviews'>],\n",
              "       [<AxesSubplot:xlabel='beds', ylabel='accommodates'>,\n",
              "        <AxesSubplot:xlabel='number_of_reviews', ylabel='accommodates'>,\n",
              "        <AxesSubplot:xlabel='accommodates', ylabel='accommodates'>,\n",
              "        <AxesSubplot:xlabel='review_scores_rating', ylabel='accommodates'>],\n",
              "       [<AxesSubplot:xlabel='beds', ylabel='review_scores_rating'>,\n",
              "        <AxesSubplot:xlabel='number_of_reviews', ylabel='review_scores_rating'>,\n",
              "        <AxesSubplot:xlabel='accommodates', ylabel='review_scores_rating'>,\n",
              "        <AxesSubplot:xlabel='review_scores_rating', ylabel='review_scores_rating'>]],\n",
              "      dtype=object)"
            ]
          },
          "execution_count": 84,
          "metadata": {},
          "output_type": "execute_result"
        },
        {
          "data": {
            "image/png": "[encoded data removed]",
            "text/plain": [
              "<Figure size 432x288 with 16 Axes>"
            ]
          },
          "metadata": {
            "needs_background": "light"
          },
          "output_type": "display_data"
        },
        {
          "name": "stdout",
          "output_type": "stream",
          "text": [
            "time: 10.7 s (started: 2022-04-24 20:08:11 -05:00)\n"
          ]
        }
      ],
      "source": [
        "%matplotlib inline\n",
        "plots_attr =['price','beds','number_of_reviews','accommodates','review_scores_rating']\n",
        "data_scatter = data.reindex(columns=plots_attr)\n",
        "pd.plotting.scatter_matrix(data_scatter,c='blue')"
      ]
    },
    {
      "cell_type": "markdown",
      "source": [
        "We tried to  find the coreelation between some of the attributes, and we see that beds and accomodates have a linear relation"
      ],
      "metadata": {
        "id": "X6h3LFdeZkBQ"
      }
    },
    {
      "cell_type": "code",
      "execution_count": null,
      "metadata": {
        "id": "vFkxkAPOVimo",
        "outputId": "fca81ca0-dc0f-407e-8f34-a10382d93442"
      },
      "outputs": [
        {
          "name": "stdout",
          "output_type": "stream",
          "text": [
            "time: 656 ms (started: 2022-05-01 08:52:05 -05:00)\n"
          ]
        }
      ],
      "source": [
        "#Convert String columns to Numeric\n",
        "data[['host_response_rate','price','security_deposit','cleaning_fee','extra_people','host_acceptance_rate']] = data[['host_response_rate','price','security_deposit','cleaning_fee','extra_people','host_acceptance_rate']].apply(pd.to_numeric)\n",
        "#Replacing the missing values of numerical column with mean \n",
        "df_numeric = data.select_dtypes(include=np.number)\n",
        "for col in df_numeric.columns:\n",
        "    data[col].fillna(data[col].mean(), inplace=True)"
      ]
    },
    {
      "cell_type": "markdown",
      "source": [
        "replacing all na columns of the nuric type to the mean of the value"
      ],
      "metadata": {
        "id": "nvX4mfv7Z9dr"
      }
    },
    {
      "cell_type": "code",
      "execution_count": null,
      "metadata": {
        "id": "MlfLt9D7Vimo",
        "outputId": "06e5bebf-82fb-4750-c89c-40d7bef384df"
      },
      "outputs": [
        {
          "data": {
            "text/plain": [
              "host_response_rate                              37170\n",
              "host_acceptance_rate                            55375\n",
              "host_listings_count                                 0\n",
              "host_total_listings_count                           0\n",
              "is_location_exact                                   0\n",
              "accommodates                                        0\n",
              "bathrooms                                          80\n",
              "bedrooms                                          101\n",
              "beds                                                0\n",
              "price                                               0\n",
              "security_deposit                                34669\n",
              "cleaning_fee                                    18315\n",
              "guests_included                                     0\n",
              "extra_people                                        0\n",
              "minimum_nights                                      0\n",
              "maximum_nights                                      0\n",
              "minimum_minimum_nights                              0\n",
              "maximum_minimum_nights                              0\n",
              "minimum_maximum_nights                              0\n",
              "maximum_maximum_nights                              0\n",
              "minimum_nights_avg_ntm                              0\n",
              "maximum_nights_avg_ntm                              0\n",
              "has_availability                                    0\n",
              "availability_30                                     0\n",
              "availability_60                                     0\n",
              "availability_90                                     0\n",
              "availability_365                                    0\n",
              "number_of_reviews                                   0\n",
              "number_of_reviews_ltm                               0\n",
              "review_scores_rating                             2652\n",
              "review_scores_accuracy                           2751\n",
              "review_scores_cleanliness                        2709\n",
              "review_scores_checkin                            2787\n",
              "review_scores_communication                      2739\n",
              "review_scores_location                           2796\n",
              "review_scores_value                              2793\n",
              "requires_license                                    0\n",
              "instant_bookable                                    0\n",
              "is_business_travel_ready                            0\n",
              "require_guest_profile_picture                       0\n",
              "require_guest_phone_verification                    0\n",
              "calculated_host_listings_count                      0\n",
              "calculated_host_listings_count_entire_homes         0\n",
              "calculated_host_listings_count_private_rooms        0\n",
              "calculated_host_listings_count_shared_rooms         0\n",
              "reviews_per_month                                   0\n",
              "dtype: int64"
            ]
          },
          "execution_count": 17,
          "metadata": {},
          "output_type": "execute_result"
        },
        {
          "name": "stdout",
          "output_type": "stream",
          "text": [
            "time: 15 ms (started: 2022-05-01 08:52:17 -05:00)\n"
          ]
        }
      ],
      "source": [
        "df_numeric.isna().sum()"
      ]
    },
    {
      "cell_type": "markdown",
      "source": [
        "Converting the slected strings values from categorical to numerical using one hot encoding by using pandas dummies"
      ],
      "metadata": {
        "id": "LLgeOWckaN3o"
      }
    },
    {
      "cell_type": "code",
      "execution_count": null,
      "metadata": {
        "id": "0p2htXxiVimo",
        "outputId": "210380c4-e855-440a-cb6f-fe6c0a7580f3"
      },
      "outputs": [
        {
          "name": "stdout",
          "output_type": "stream",
          "text": [
            "time: 343 ms (started: 2022-05-01 08:52:42 -05:00)\n"
          ]
        }
      ],
      "source": [
        "# One hot encoding by creating dummy variables for categorical column)\n",
        "categorical_cols = ['property_type','room_type', 'bed_type', 'cancellation_policy','state','host_response_time']  #Property_type increased 35 features\n",
        "data_cat =data.reindex(columns =categorical_cols)\n",
        "data_dummies = pd.get_dummies(data_cat, columns = categorical_cols)\n",
        "data =pd.concat([data,data_dummies],axis=1)"
      ]
    },
    {
      "cell_type": "code",
      "execution_count": null,
      "metadata": {
        "id": "jIh7sJhnVimo",
        "outputId": "0cdaa8f3-78fd-4deb-fc75-c91e00464caf"
      },
      "outputs": [
        {
          "data": {
            "text/plain": [
              "pandas.core.frame.DataFrame"
            ]
          },
          "execution_count": 88,
          "metadata": {},
          "output_type": "execute_result"
        },
        {
          "name": "stdout",
          "output_type": "stream",
          "text": [
            "time: 0 ns (started: 2022-04-24 20:08:22 -05:00)\n"
          ]
        }
      ],
      "source": [
        "type(data_dummies)"
      ]
    },
    {
      "cell_type": "markdown",
      "source": [
        "We will visulaize the disribution density of different room types after converting to numeric using dummies above and the below three charts describe the distribution of the room type in the neighbourhood vs Price"
      ],
      "metadata": {
        "id": "UT0w4J1vaYSP"
      }
    },
    {
      "cell_type": "code",
      "execution_count": null,
      "metadata": {
        "tags": [],
        "id": "p1Hp9hhnVimo",
        "outputId": "d4ae9afb-36e5-4c9a-dd4d-310e2338eddb"
      },
      "outputs": [
        {
          "data": {
            "text/plain": [
              "Text(0.5, 1.0, 'Distribution of prices for each neighberhood_group for room_type_Entire home/apt ')"
            ]
          },
          "execution_count": 89,
          "metadata": {},
          "output_type": "execute_result"
        },
        {
          "data": {
            "image/png": "[encoded data removed]",
            "text/plain": [
              "<Figure size 432x288 with 1 Axes>"
            ]
          },
          "metadata": {
            "needs_background": "light"
          },
          "output_type": "display_data"
        },
        {
          "name": "stdout",
          "output_type": "stream",
          "text": [
            "time: 609 ms (started: 2022-04-24 20:08:22 -05:00)\n"
          ]
        }
      ],
      "source": [
        "#using violinplot to showcase density and distribtuion of prices \n",
        "viz_2=sns.violinplot(data=data[data['room_type_Entire home/apt']==1], x='neighbourhood_group_cleansed', y='price')\n",
        "viz_2.set_title('Distribution of prices for each neighberhood_group for room_type_Entire home/apt ')"
      ]
    },
    {
      "cell_type": "code",
      "execution_count": null,
      "metadata": {
        "tags": [],
        "id": "AMxIiOUMVimo",
        "outputId": "f8f20a2d-be90-439c-b903-1ffa98c64762"
      },
      "outputs": [
        {
          "data": {
            "text/plain": [
              "Text(0.5, 1.0, 'Distribution of prices for each neighberhood_group for room_type_Hotel room')"
            ]
          },
          "execution_count": 90,
          "metadata": {},
          "output_type": "execute_result"
        },
        {
          "data": {
            "image/png": "[encoded data removed]",
            "text/plain": [
              "<Figure size 432x288 with 1 Axes>"
            ]
          },
          "metadata": {
            "needs_background": "light"
          },
          "output_type": "display_data"
        },
        {
          "name": "stdout",
          "output_type": "stream",
          "text": [
            "time: 235 ms (started: 2022-04-24 20:08:23 -05:00)\n"
          ]
        }
      ],
      "source": [
        "#using violinplot to showcase density and distribtuion of prices \n",
        "viz_2=sns.violinplot(data=data[data['room_type_Hotel room']==1], x='neighbourhood_group_cleansed', y='price')\n",
        "viz_2.set_title('Distribution of prices for each neighberhood_group for room_type_Hotel room')"
      ]
    },
    {
      "cell_type": "code",
      "execution_count": null,
      "metadata": {
        "tags": [],
        "id": "7pHM2VW0Vimo",
        "outputId": "c599c39e-de8a-4039-d9a4-fc8ef2920f47"
      },
      "outputs": [
        {
          "data": {
            "text/plain": [
              "Text(0.5, 1.0, 'Distribution of prices for each neighbourhood_group for room_type_Private room')"
            ]
          },
          "execution_count": 91,
          "metadata": {},
          "output_type": "execute_result"
        },
        {
          "data": {
            "image/png": "[encoded data removed]",
            "text/plain": [
              "<Figure size 432x288 with 1 Axes>"
            ]
          },
          "metadata": {
            "needs_background": "light"
          },
          "output_type": "display_data"
        },
        {
          "name": "stdout",
          "output_type": "stream",
          "text": [
            "time: 640 ms (started: 2022-04-24 20:08:23 -05:00)\n"
          ]
        }
      ],
      "source": [
        "#using violinplot to showcase density and distribtuion of prices \n",
        "viz_2=sns.violinplot(data=data[data['room_type_Private room']==1], x='neighbourhood_group_cleansed', y='price')\n",
        "viz_2.set_title('Distribution of prices for each neighbourhood_group for room_type_Private room')"
      ]
    },
    {
      "cell_type": "code",
      "execution_count": null,
      "metadata": {
        "tags": [],
        "id": "HYuK-XhhVimp",
        "outputId": "e05e3b95-e569-4925-bfaa-42d601875e68"
      },
      "outputs": [
        {
          "data": {
            "text/plain": [
              "Text(0.5, 1.0, 'Density and distribution of prices for each neighbourhood_group')"
            ]
          },
          "execution_count": 92,
          "metadata": {},
          "output_type": "execute_result"
        },
        {
          "data": {
            "image/png": "[encoded data removed]",
            "text/plain": [
              "<Figure size 432x288 with 1 Axes>"
            ]
          },
          "metadata": {
            "needs_background": "light"
          },
          "output_type": "display_data"
        },
        {
          "name": "stdout",
          "output_type": "stream",
          "text": [
            "time: 703 ms (started: 2022-04-24 20:08:24 -05:00)\n"
          ]
        }
      ],
      "source": [
        "#using violinplot to showcase density and distribtuion of prices \n",
        "viz_2=sns.violinplot(data=data[data['room_type_Private room']==1], x='neighbourhood_group_cleansed', y='price')\n",
        "viz_2.set_title('Density and distribution of prices for each neighbourhood_group')"
      ]
    },
    {
      "cell_type": "code",
      "execution_count": null,
      "metadata": {
        "id": "sbuEcgYpVimp",
        "outputId": "bdcd7af8-9456-44c0-d8da-f1842c3e9952"
      },
      "outputs": [
        {
          "name": "stdout",
          "output_type": "stream",
          "text": [
            "time: 297 ms (started: 2022-05-01 08:52:57 -05:00)\n"
          ]
        }
      ],
      "source": [
        "#Dropping the duplicate columns after creating dummy variable\n",
        "drop_columns =['neighbourhood_group_cleansed','property_type','room_type','cancellation_policy','state','host_response_time']\n",
        "data.reindex(columns=drop_columns)\n",
        "data = data.drop(columns=drop_columns)"
      ]
    },
    {
      "cell_type": "code",
      "execution_count": null,
      "metadata": {
        "id": "11DeT8IaVimp",
        "outputId": "1ca0c4dd-399a-4aca-8a51-444c106718ea"
      },
      "outputs": [
        {
          "name": "stdout",
          "output_type": "stream",
          "text": [
            "time: 31 ms (started: 2022-05-01 08:53:04 -05:00)\n"
          ]
        }
      ],
      "source": [
        "# To separate the numeric columns in dataset \n",
        "df_numeric = data.select_dtypes(include=np.number)"
      ]
    },
    {
      "cell_type": "code",
      "execution_count": null,
      "metadata": {
        "id": "IIXHLoqBVimp",
        "outputId": "e9fd0a3f-ffa3-45e4-d3b8-c6670af62097"
      },
      "outputs": [
        {
          "name": "stdout",
          "output_type": "stream",
          "text": [
            "time: 62 ms (started: 2022-04-24 20:08:25 -05:00)\n"
          ]
        }
      ],
      "source": [
        "#To separate the sting column in dataset \n",
        "df_str = data.select_dtypes(include=object)"
      ]
    },
    {
      "cell_type": "code",
      "execution_count": null,
      "metadata": {
        "id": "MDeh9QPZVimp",
        "outputId": "6c17aa5c-e33f-45aa-e410-af5148443440"
      },
      "outputs": [
        {
          "name": "stdout",
          "output_type": "stream",
          "text": [
            "<class 'pandas.core.frame.DataFrame'>\n",
            "Int64Index: 115043 entries, 0 to 153239\n",
            "Columns: 101 entries, host_response_rate to host_response_time_within an hour\n",
            "dtypes: float64(21), int64(25), uint8(55)\n",
            "memory usage: 47.3 MB\n",
            "time: 15 ms (started: 2022-04-24 20:08:25 -05:00)\n"
          ]
        }
      ],
      "source": [
        "df_numeric.info()"
      ]
    },
    {
      "cell_type": "code",
      "execution_count": null,
      "metadata": {
        "id": "TTLVUxunVimp",
        "outputId": "9c68cb3e-6ece-4062-9c4b-c10f30da98ae"
      },
      "outputs": [
        {
          "name": "stdout",
          "output_type": "stream",
          "text": [
            "time: 31 ms (started: 2022-05-01 08:53:23 -05:00)\n"
          ]
        }
      ],
      "source": [
        "df_numeric = df_numeric.sample(frac=0.2, replace=True, random_state=1)"
      ]
    },
    {
      "cell_type": "code",
      "execution_count": null,
      "metadata": {
        "id": "pHsdXR3BVimp",
        "outputId": "b1b641f5-8b14-4cf1-c011-9e1efdba730c"
      },
      "outputs": [
        {
          "name": "stdout",
          "output_type": "stream",
          "text": [
            "<class 'pandas.core.frame.DataFrame'>\n",
            "Int64Index: 23009 entries, 129499 to 62888\n",
            "Columns: 101 entries, host_response_rate to host_response_time_within an hour\n",
            "dtypes: float64(21), int64(25), uint8(55)\n",
            "memory usage: 9.5 MB\n",
            "time: 15 ms (started: 2022-04-24 20:08:25 -05:00)\n"
          ]
        }
      ],
      "source": [
        "df_numeric.info()"
      ]
    },
    {
      "cell_type": "markdown",
      "source": [
        "Spliiting the data into training and testing , we used the traintestsplit from sklearn .\n",
        "80% of the dta is used for traning and 20% of the data is used for tetsing"
      ],
      "metadata": {
        "id": "3MGy3zWha5vr"
      }
    },
    {
      "cell_type": "code",
      "execution_count": null,
      "metadata": {
        "id": "khgrWIiqVimq",
        "outputId": "aa84c535-8300-42cf-f381-e8c1a77843ff"
      },
      "outputs": [
        {
          "name": "stdout",
          "output_type": "stream",
          "text": [
            "time: 47 ms (started: 2022-05-01 08:53:27 -05:00)\n"
          ]
        }
      ],
      "source": [
        "X_train, X_test, y_train, y_test = train_test_split(df_numeric.drop(columns = 'price',axis=1),df_numeric.price, \n",
        "                                                    test_size = 0.2,\n",
        "                                                   random_state = 123)"
      ]
    },
    {
      "cell_type": "markdown",
      "source": [
        "We will now scale the data so that the variance is 1 and the mean becomes 0"
      ],
      "metadata": {
        "id": "viVtwivzbMdJ"
      }
    },
    {
      "cell_type": "code",
      "execution_count": null,
      "metadata": {
        "id": "d9Ejzh0dVimq",
        "outputId": "b79eaa1e-3ef0-4919-e641-d1a5eb347313"
      },
      "outputs": [
        {
          "name": "stdout",
          "output_type": "stream",
          "text": [
            "time: 141 ms (started: 2022-05-01 08:53:31 -05:00)\n"
          ]
        }
      ],
      "source": [
        "from sklearn.preprocessing import StandardScaler\n",
        "scaler = StandardScaler()\n",
        "scaler.fit(X_train)\n",
        "X_train_scaled = scaler.transform(X_train)\n",
        "X_test_scaled = scaler.transform(X_test)"
      ]
    },
    {
      "cell_type": "markdown",
      "source": [
        "We will perform PCA so that we will retain 90% variance and this is help us to get the most coreralted features and hence redeuce the number of features to tbe trained for our final model"
      ],
      "metadata": {
        "id": "fUi2cXRzbl-M"
      }
    },
    {
      "cell_type": "code",
      "execution_count": null,
      "metadata": {
        "id": "x189wD4JVimq",
        "outputId": "451d5d5d-7aa6-44d8-e3b4-019ed87864d4"
      },
      "outputs": [
        {
          "data": {
            "text/plain": [
              "PCA(n_components=0.9)"
            ]
          },
          "execution_count": 25,
          "metadata": {},
          "output_type": "execute_result"
        },
        {
          "name": "stdout",
          "output_type": "stream",
          "text": [
            "time: 422 ms (started: 2022-05-01 08:53:34 -05:00)\n"
          ]
        }
      ],
      "source": [
        "#Selection features that exlain atleast 90% of the target variance\n",
        "from sklearn.decomposition import PCA\n",
        "pca = PCA(0.90)\n",
        "pca.fit(X_train_scaled)"
      ]
    },
    {
      "cell_type": "code",
      "execution_count": null,
      "metadata": {
        "id": "DP2OHSDzVimq",
        "outputId": "316b8fe8-00fe-4232-dda2-04b200ef6103"
      },
      "outputs": [
        {
          "data": {
            "text/plain": [
              "57"
            ]
          },
          "execution_count": 26,
          "metadata": {},
          "output_type": "execute_result"
        },
        {
          "name": "stdout",
          "output_type": "stream",
          "text": [
            "time: 15 ms (started: 2022-05-01 08:53:48 -05:00)\n"
          ]
        }
      ],
      "source": [
        "pca.n_components_"
      ]
    },
    {
      "cell_type": "code",
      "execution_count": null,
      "metadata": {
        "id": "5hnhipzjVimq",
        "outputId": "2dd80dcb-d8a8-4c5b-8999-dc95da294156"
      },
      "outputs": [
        {
          "name": "stdout",
          "output_type": "stream",
          "text": [
            "time: 32 ms (started: 2022-05-01 08:53:53 -05:00)\n"
          ]
        }
      ],
      "source": [
        "X_train  = pca.transform(X_train_scaled)\n",
        "X_test = pca.transform(X_test_scaled)"
      ]
    },
    {
      "cell_type": "code",
      "execution_count": null,
      "metadata": {
        "id": "esrDe-YgVimq",
        "outputId": "8699600f-95e7-4c7d-9c74-74a3cfe930cb"
      },
      "outputs": [
        {
          "data": {
            "text/plain": [
              "Text(156.25, 0.5, 'cumulative explained variance')"
            ]
          },
          "execution_count": 28,
          "metadata": {},
          "output_type": "execute_result"
        },
        {
          "name": "stdout",
          "output_type": "stream",
          "text": [
            "time: 234 ms (started: 2022-05-01 08:53:57 -05:00)\n"
          ]
        }
      ],
      "source": [
        "#this is to perform PCA on our data \n",
        "plt.plot(np.cumsum(pca.explained_variance_ratio_))\n",
        "plt.title('Principal Component Analysis to reduce variables')\n",
        "plt.xlabel('number of components')\n",
        "plt.ylabel('cumulative explained variance')"
      ]
    },
    {
      "cell_type": "code",
      "execution_count": null,
      "metadata": {
        "colab": {
          "base_uri": "https://localhost:8080/"
        },
        "id": "VplzgQIZxEnv",
        "outputId": "f858c38f-0d22-4977-ebc3-7bd4dea42882"
      },
      "outputs": [
        {
          "name": "stdout",
          "output_type": "stream",
          "text": [
            "time: 204 ms (started: 2022-05-01 08:54:03 -05:00)\n"
          ]
        }
      ],
      "source": [
        "from sklearn.linear_model import *\n",
        "from sklearn.svm import *\n",
        "from sklearn.metrics import *\n",
        "from sklearn import ensemble\n",
        "from sklearn import linear_model\n",
        "from sklearn import metrics"
      ]
    },
    {
      "cell_type": "markdown",
      "source": [
        "We will now model multiple regression models, the below are the models we are trying to use"
      ],
      "metadata": {
        "id": "opwoBsDwb2oi"
      }
    },
    {
      "cell_type": "code",
      "execution_count": null,
      "metadata": {
        "colab": {
          "base_uri": "https://localhost:8080/"
        },
        "id": "uXGG_20maUST",
        "outputId": "4c53b775-128a-4aed-f819-0d7586414620"
      },
      "outputs": [
        {
          "name": "stdout",
          "output_type": "stream",
          "text": [
            "time: 15 ms (started: 2022-05-01 08:54:06 -05:00)\n"
          ]
        }
      ],
      "source": [
        "models = {'Linear': LinearRegression(),\n",
        "          'Logistic': LogisticRegression(),\n",
        "          'Ridge':Ridge(),\n",
        "          'Lasso':Lasso(), \n",
        "          'ElasticNet': ElasticNet(),\n",
        "          'Linear svr' : LinearSVR(),\n",
        "          'GBR': ensemble.GradientBoostingRegressor(),\n",
        "          'GBR tuned':ensemble.GradientBoostingRegressor(learning_rate=0.01, loss='lad', max_depth=4,min_samples_split=2,n_estimators=500),\n",
        "          'Linear SVR': SVR(C= 10, epsilon= 0.3, gamma= 0.001, kernel= 'rbf')\n",
        "         }"
      ]
    },
    {
      "cell_type": "code",
      "execution_count": null,
      "metadata": {
        "colab": {
          "base_uri": "https://localhost:8080/",
          "height": 129
        },
        "id": "U4JaYp0hnbKq",
        "outputId": "5019e9b4-0d3f-4e58-ee74-818bb5b062bb"
      },
      "outputs": [
        {
          "name": "stderr",
          "output_type": "stream",
          "text": [
            "C:\\Users\\sagar\\anaconda3\\lib\\site-packages\\sklearn\\linear_model\\_logistic.py:763: ConvergenceWarning: lbfgs failed to converge (status=1):\n",
            "STOP: TOTAL NO. of ITERATIONS REACHED LIMIT.\n",
            "\n",
            "Increase the number of iterations (max_iter) or scale the data as shown in:\n",
            "    https://scikit-learn.org/stable/modules/preprocessing.html\n",
            "Please also refer to the documentation for alternative solver options:\n",
            "    https://scikit-learn.org/stable/modules/linear_model.html#logistic-regression\n",
            "  n_iter_i = _check_optimize_result(\n"
          ]
        },
        {
          "data": {
            "text/html": [
              "<div>\n",
              "<style scoped>\n",
              "    .dataframe tbody tr th:only-of-type {\n",
              "        vertical-align: middle;\n",
              "    }\n",
              "\n",
              "    .dataframe tbody tr th {\n",
              "        vertical-align: top;\n",
              "    }\n",
              "\n",
              "    .dataframe thead th {\n",
              "        text-align: right;\n",
              "    }\n",
              "</style>\n",
              "<table border=\"1\" class=\"dataframe\">\n",
              "  <thead>\n",
              "    <tr style=\"text-align: right;\">\n",
              "      <th></th>\n",
              "      <th>Train MAE</th>\n",
              "      <th>Validation MAE</th>\n",
              "      <th>Train RMSE</th>\n",
              "      <th>Valid RMSE</th>\n",
              "    </tr>\n",
              "  </thead>\n",
              "  <tbody>\n",
              "    <tr>\n",
              "      <th>Linear</th>\n",
              "      <td>26.715</td>\n",
              "      <td>26.251</td>\n",
              "      <td>46.863</td>\n",
              "      <td>46.558</td>\n",
              "    </tr>\n",
              "    <tr>\n",
              "      <th>Logistic</th>\n",
              "      <td>25.000</td>\n",
              "      <td>25.000</td>\n",
              "      <td>51.136</td>\n",
              "      <td>50.916</td>\n",
              "    </tr>\n",
              "    <tr>\n",
              "      <th>Ridge</th>\n",
              "      <td>26.715</td>\n",
              "      <td>26.252</td>\n",
              "      <td>46.863</td>\n",
              "      <td>46.558</td>\n",
              "    </tr>\n",
              "    <tr>\n",
              "      <th>Lasso</th>\n",
              "      <td>27.182</td>\n",
              "      <td>26.452</td>\n",
              "      <td>47.219</td>\n",
              "      <td>46.784</td>\n",
              "    </tr>\n",
              "    <tr>\n",
              "      <th>ElasticNet</th>\n",
              "      <td>28.456</td>\n",
              "      <td>27.722</td>\n",
              "      <td>47.661</td>\n",
              "      <td>47.099</td>\n",
              "    </tr>\n",
              "    <tr>\n",
              "      <th>Linear svr</th>\n",
              "      <td>24.501</td>\n",
              "      <td>24.205</td>\n",
              "      <td>47.841</td>\n",
              "      <td>48.636</td>\n",
              "    </tr>\n",
              "    <tr>\n",
              "      <th>GBR</th>\n",
              "      <td>24.815</td>\n",
              "      <td>25.103</td>\n",
              "      <td>43.626</td>\n",
              "      <td>45.051</td>\n",
              "    </tr>\n",
              "    <tr>\n",
              "      <th>GBR tuned</th>\n",
              "      <td>22.161</td>\n",
              "      <td>23.173</td>\n",
              "      <td>45.507</td>\n",
              "      <td>46.424</td>\n",
              "    </tr>\n",
              "    <tr>\n",
              "      <th>Linear SVR</th>\n",
              "      <td>24.109</td>\n",
              "      <td>23.708</td>\n",
              "      <td>46.909</td>\n",
              "      <td>46.401</td>\n",
              "    </tr>\n",
              "  </tbody>\n",
              "</table>\n",
              "</div>"
            ],
            "text/plain": [
              "            Train MAE  Validation MAE  Train RMSE  Valid RMSE\n",
              "Linear         26.715          26.251      46.863      46.558\n",
              "Logistic       25.000          25.000      51.136      50.916\n",
              "Ridge          26.715          26.252      46.863      46.558\n",
              "Lasso          27.182          26.452      47.219      46.784\n",
              "ElasticNet     28.456          27.722      47.661      47.099\n",
              "Linear svr     24.501          24.205      47.841      48.636\n",
              "GBR            24.815          25.103      43.626      45.051\n",
              "GBR tuned      22.161          23.173      45.507      46.424\n",
              "Linear SVR     24.109          23.708      46.909      46.401"
            ]
          },
          "execution_count": 33,
          "metadata": {},
          "output_type": "execute_result"
        },
        {
          "name": "stdout",
          "output_type": "stream",
          "text": [
            "time: 10min 56s (started: 2022-05-01 09:19:46 -05:00)\n"
          ]
        }
      ],
      "source": [
        "results_dict = {}\n",
        "for model_name, model in models.items(): \n",
        "    model.fit(X_train, y_train)\n",
        "    y_train_pred = model.predict(X_train)\n",
        "    y_test_pred = model.predict(X_test)\n",
        "    tr_mae = median_absolute_error(y_train, y_train_pred)\n",
        "    valid_mae = median_absolute_error(y_test, y_test_pred)\n",
        "    train_rmse = mean_squared_error(y_train,y_train_pred)**0.5\n",
        "    valid_rmse = mean_squared_error(y_test,y_test_pred)**0.5\n",
        "    #train_r2 = r2_score(y_train,y_train_pred)\n",
        "    results_dict[model_name] = [round(tr_mae,3), round(valid_mae,3), round(train_rmse,3), round(valid_rmse,3)]\n",
        "    \n",
        "\n",
        "results_df = pd.DataFrame(results_dict).T\n",
        "results_df.columns = [\"Train MAE\", \"Validation MAE\",\"Train RMSE\", \"Valid RMSE\"]\n",
        "results_df"
      ]
    },
    {
      "cell_type": "code",
      "execution_count": null,
      "metadata": {
        "colab": {
          "base_uri": "https://localhost:8080/",
          "height": 369
        },
        "id": "CCxSSpiPi8JQ",
        "outputId": "fb7a13e2-b9d5-4570-a279-842357839514"
      },
      "outputs": [
        {
          "name": "stdout",
          "output_type": "stream",
          "text": [
            "time: 281 ms (started: 2022-05-01 09:40:19 -05:00)\n"
          ]
        },
        {
          "name": "stderr",
          "output_type": "stream",
          "text": [
            "C:\\Users\\sagar\\AppData\\Local\\Temp/ipykernel_31904/3341501461.py:3: UserWarning: Matplotlib is currently using agg, which is a non-GUI backend, so cannot show the figure.\n",
            "  plt.show();\n"
          ]
        }
      ],
      "source": [
        "results_df.plot.bar(rot=45, title=\"Model Comparison\",xlabel='Estimator',ylabel='Median Absolute Error');\n",
        "plt.figure(figsize=(15,15))\n",
        "plt.show();"
      ]
    },
    {
      "cell_type": "markdown",
      "metadata": {
        "id": "u-v2DpFjVimr"
      },
      "source": [
        "Looking at the graph we can say most of the models being able to predict the price with a median error around  between 20 to 30 dollars"
      ]
    },
    {
      "cell_type": "markdown",
      "source": [
        "We have hypertuned the SVR and it has given us to use the below values (C= 10, epsilon= 0.3, gamma= 0.001, kernel= 'rbf')"
      ],
      "metadata": {
        "id": "Mj5BNi3ycKsn"
      }
    },
    {
      "cell_type": "code",
      "execution_count": null,
      "metadata": {
        "id": "WvuI9l0_Vims",
        "outputId": "d6231501-243c-4735-d863-bc68859b70df"
      },
      "outputs": [
        {
          "data": {
            "text/html": [
              "<div>\n",
              "<style scoped>\n",
              "    .dataframe tbody tr th:only-of-type {\n",
              "        vertical-align: middle;\n",
              "    }\n",
              "\n",
              "    .dataframe tbody tr th {\n",
              "        vertical-align: top;\n",
              "    }\n",
              "\n",
              "    .dataframe thead th {\n",
              "        text-align: right;\n",
              "    }\n",
              "</style>\n",
              "<table border=\"1\" class=\"dataframe\">\n",
              "  <thead>\n",
              "    <tr style=\"text-align: right;\">\n",
              "      <th></th>\n",
              "      <th>Train MAE</th>\n",
              "      <th>Validation MAE</th>\n",
              "      <th>Train RMSE</th>\n",
              "      <th>Validation RMSE</th>\n",
              "    </tr>\n",
              "  </thead>\n",
              "  <tbody>\n",
              "    <tr>\n",
              "      <th>Linear</th>\n",
              "      <td>26.715</td>\n",
              "      <td>26.251</td>\n",
              "      <td>46.863</td>\n",
              "      <td>46.558</td>\n",
              "    </tr>\n",
              "    <tr>\n",
              "      <th>Logistic</th>\n",
              "      <td>25.000</td>\n",
              "      <td>25.000</td>\n",
              "      <td>51.136</td>\n",
              "      <td>50.916</td>\n",
              "    </tr>\n",
              "    <tr>\n",
              "      <th>Ridge</th>\n",
              "      <td>26.715</td>\n",
              "      <td>26.252</td>\n",
              "      <td>46.863</td>\n",
              "      <td>46.558</td>\n",
              "    </tr>\n",
              "    <tr>\n",
              "      <th>Lasso</th>\n",
              "      <td>27.182</td>\n",
              "      <td>26.452</td>\n",
              "      <td>47.219</td>\n",
              "      <td>46.784</td>\n",
              "    </tr>\n",
              "    <tr>\n",
              "      <th>ElasticNet</th>\n",
              "      <td>28.456</td>\n",
              "      <td>27.722</td>\n",
              "      <td>47.661</td>\n",
              "      <td>47.099</td>\n",
              "    </tr>\n",
              "    <tr>\n",
              "      <th>Linear svr</th>\n",
              "      <td>24.501</td>\n",
              "      <td>24.205</td>\n",
              "      <td>47.841</td>\n",
              "      <td>48.636</td>\n",
              "    </tr>\n",
              "    <tr>\n",
              "      <th>GBR</th>\n",
              "      <td>24.815</td>\n",
              "      <td>25.103</td>\n",
              "      <td>43.626</td>\n",
              "      <td>45.051</td>\n",
              "    </tr>\n",
              "    <tr>\n",
              "      <th>GBR tuned</th>\n",
              "      <td>22.161</td>\n",
              "      <td>23.173</td>\n",
              "      <td>45.507</td>\n",
              "      <td>46.424</td>\n",
              "    </tr>\n",
              "    <tr>\n",
              "      <th>Linear SVR</th>\n",
              "      <td>24.109</td>\n",
              "      <td>23.708</td>\n",
              "      <td>46.909</td>\n",
              "      <td>46.401</td>\n",
              "    </tr>\n",
              "    <tr>\n",
              "      <th>SVR hypertuned</th>\n",
              "      <td>24.109</td>\n",
              "      <td>23.708</td>\n",
              "      <td>46.909</td>\n",
              "      <td>46.401</td>\n",
              "    </tr>\n",
              "  </tbody>\n",
              "</table>\n",
              "</div>"
            ],
            "text/plain": [
              "                Train MAE  Validation MAE  Train RMSE  Validation RMSE\n",
              "Linear             26.715          26.251      46.863           46.558\n",
              "Logistic           25.000          25.000      51.136           50.916\n",
              "Ridge              26.715          26.252      46.863           46.558\n",
              "Lasso              27.182          26.452      47.219           46.784\n",
              "ElasticNet         28.456          27.722      47.661           47.099\n",
              "Linear svr         24.501          24.205      47.841           48.636\n",
              "GBR                24.815          25.103      43.626           45.051\n",
              "GBR tuned          22.161          23.173      45.507           46.424\n",
              "Linear SVR         24.109          23.708      46.909           46.401\n",
              "SVR hypertuned     24.109          23.708      46.909           46.401"
            ]
          },
          "execution_count": 34,
          "metadata": {},
          "output_type": "execute_result"
        },
        {
          "name": "stdout",
          "output_type": "stream",
          "text": [
            "time: 2min 11s (started: 2022-05-01 09:34:36 -05:00)\n"
          ]
        }
      ],
      "source": [
        "model = SVR(C= 10, epsilon= 0.3, gamma= 0.001, kernel= 'rbf')\n",
        "model.fit(X_train, y_train)\n",
        "y_train_pred = model.predict(X_train)\n",
        "y_test_pred = model.predict(X_test)\n",
        "tr_mae = median_absolute_error(y_train, y_train_pred)\n",
        "valid_mae = median_absolute_error(y_test, y_test_pred)\n",
        "train_rmse = mean_squared_error(y_train,y_train_pred)**0.5\n",
        "valid_rmse = mean_squared_error(y_test,y_test_pred)**0.5        \n",
        "results_dict['SVR hypertuned'] = [round(tr_mae,3), round(valid_mae,3), round(train_rmse,3), round(valid_rmse,3)]\n",
        "    \n",
        "results_df = pd.DataFrame(results_dict).T\n",
        "results_df.columns = [\"Train MAE\", \"Validation MAE\",\"Train RMSE\",\"Validation RMSE\"]\n",
        "results_df"
      ]
    },
    {
      "cell_type": "markdown",
      "metadata": {
        "id": "OwcjU4CHvn-z"
      },
      "source": [
        "We also tried to run the Random Forest regressor and it has given us the best value at depth = 8 with close to 24 as the error which truned out to be a one of the good predictor."
      ]
    },
    {
      "cell_type": "code",
      "execution_count": null,
      "metadata": {
        "id": "96DnDqL3Vims"
      },
      "outputs": [],
      "source": [
        "\n",
        "for i in range(20):\n",
        "    regr = ensemble.RandomForestRegressor(n_estimators=100, max_depth=i+1, min_samples_split=2,min_samples_leaf=1,\n",
        "                                          min_weight_fraction_leaf=0,max_features='auto',max_leaf_nodes=None, min_impurity_decrease=0.0,\n",
        "                                          bootstrap=True, oob_score=True, n_jobs= None, random_state=None, verbose=0,warm_start=False,\n",
        "                                          ccp_alpha=0.0, max_samples=None)\n",
        "    regr.fit(X_train,y_train)\n",
        "    predicted = regr.predict(X_test)\n",
        "    print('For depth'+str(i+1)+ ':'+str(median_absolute_error(y_test,predicted)))"
      ]
    }
  ],
  "metadata": {
    "colab": {
      "provenance": []
    },
    "kernelspec": {
      "display_name": "Python 3 (ipykernel)",
      "language": "python",
      "name": "python3"
    },
    "language_info": {
      "codemirror_mode": {
        "name": "ipython",
        "version": 3
      },
      "file_extension": ".py",
      "mimetype": "text/x-python",
      "name": "python",
      "nbconvert_exporter": "python",
      "pygments_lexer": "ipython3",
      "version": "3.9.7"
    },
    "toc-autonumbering": true,
    "toc-showcode": false
  },
  "nbformat": 4,
  "nbformat_minor": 0
}